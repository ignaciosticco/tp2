{
 "cells": [
  {
   "cell_type": "code",
   "execution_count": 1,
   "metadata": {},
   "outputs": [],
   "source": [
    "import networkx as nx\n",
    "import numpy as np\n",
    "import matplotlib.pyplot as plt\n",
    "import pylab\n",
    "import math\n",
    "import pandas as pd\n",
    "from io import StringIO\n",
    "import random\n",
    "import scipy\n",
    "import operator"
   ]
  },
  {
   "cell_type": "code",
   "execution_count": 2,
   "metadata": {},
   "outputs": [],
   "source": [
    "G_APMS = nx.read_edgelist('yeast_AP-MS.txt')\n",
    "G_Y2H = nx.read_edgelist('yeast_Y2H.txt')\n",
    "G_LIT = nx.read_edgelist('yeast_LIT.txt')\n",
    "\n",
    "G_LIT_Reguly = nx.Graph()\n",
    "data_lit_reguly = np.genfromtxt(\"yeast_LIT_Reguly.txt\",dtype='unicode',delimiter = '\\t')\n",
    "yeast_LIT_Reguly_raw = [data_lit_reguly[1:,0],data_lit_reguly[1:,1]]\n",
    "\n",
    "i=1\n",
    "while i<len(data_lit_reguly[1:,0]):\n",
    "    G_LIT_Reguly.add_edge(data_lit_reguly[i,0],data_lit_reguly[i,1])\n",
    "    i+=1"
   ]
  },
  {
   "cell_type": "code",
   "execution_count": 3,
   "metadata": {},
   "outputs": [],
   "source": [
    "G_ESSENTIAL = nx.Graph()\n",
    "data_G_ESSENTIAL = np.genfromtxt(\"Essential_ORFs_paperHe.txt\",dtype='unicode',delimiter = '\\t')\n",
    "yeast_G_ESSENTIAL_raw = [data_G_ESSENTIAL[2:,1]]\n",
    "\n",
    "i = 0\n",
    "l = len(yeast_G_ESSENTIAL_raw[0][:])\n",
    "\n",
    "while i < l:\n",
    "    proteina = yeast_G_ESSENTIAL_raw[0][i]\n",
    "    yeast_G_ESSENTIAL_raw[0][i] = proteina.rstrip(\" \")\n",
    "    i+=1"
   ]
  },
  {
   "cell_type": "markdown",
   "metadata": {},
   "source": [
    "Agregamos la esencialidad a los nodos"
   ]
  },
  {
   "cell_type": "code",
   "execution_count": 4,
   "metadata": {},
   "outputs": [],
   "source": [
    "def agrega_esencialidad(red,lista_esencial):\n",
    "    \n",
    "    j = 0\n",
    "    l = len(red)\n",
    "    while j < l:\n",
    "        nombre = list(red)[j]\n",
    "        red.node[nombre]['esencialidad']=0\n",
    "        j += 1\n",
    "    \n",
    "    for i in lista_esencial[0]:\n",
    "        if (i in red):\n",
    "            red.node[i]['esencialidad']=1\n",
    "    return"
   ]
  },
  {
   "cell_type": "code",
   "execution_count": 5,
   "metadata": {},
   "outputs": [],
   "source": [
    "agrega_esencialidad(G_APMS,yeast_G_ESSENTIAL_raw)\n",
    "agrega_esencialidad(G_Y2H,yeast_G_ESSENTIAL_raw)\n",
    "agrega_esencialidad(G_LIT,yeast_G_ESSENTIAL_raw)\n",
    "agrega_esencialidad(G_LIT_Reguly,yeast_G_ESSENTIAL_raw)"
   ]
  },
  {
   "cell_type": "code",
   "execution_count": 6,
   "metadata": {},
   "outputs": [],
   "source": [
    "def analisis_nodos_no_adyacentes(red,vecinos):\n",
    "    A = nx.adjacency_matrix(red)\n",
    "    A2 = A * A\n",
    "    A = A.toarray()\n",
    "    A2 = A2.toarray()\n",
    "    contador_tipo_indiferente = 0\n",
    "    contador_mismo_tipo = 0\n",
    "    l = nx.number_of_nodes(red)\n",
    "    i = 0\n",
    "    while i < l:\n",
    "        j = i + 1\n",
    "        while j < l:\n",
    "            enlace_ij = A[i][j]\n",
    "            if enlace_ij == 0:    #no son adyacentes\n",
    "                caminos_ij = A2[i][j]   #cantidad de vecinos en comun\n",
    "                if caminos_ij >= vecinos:\n",
    "                    contador_tipo_indiferente += 1\n",
    "                    nombre_i = list(red)[i]\n",
    "                    nombre_j = list(red)[j]\n",
    "                    esencialidad_nodo_i = red.node[nombre_i]['esencialidad']\n",
    "                    esencialidad_nodo_j = red.node[nombre_j]['esencialidad']   \n",
    "                    if esencialidad_nodo_i==esencialidad_nodo_j:\n",
    "                        contador_mismo_tipo +=1\n",
    "            j += 1\n",
    "        i += 1\n",
    "    return (contador_tipo_indiferente,contador_mismo_tipo)\n",
    "    "
   ]
  },
  {
   "cell_type": "code",
   "execution_count": 7,
   "metadata": {},
   "outputs": [],
   "source": [
    "pares_no_adyacentes_APMS = analisis_nodos_no_adyacentes(G_APMS,3)\n",
    "pares_no_adyacentes_Y2H = analisis_nodos_no_adyacentes(G_Y2H,1)\n",
    "pares_no_adyacentes_LIT = analisis_nodos_no_adyacentes(G_LIT,3)\n",
    "pares_no_adyacentes_LIT_Reguly = analisis_nodos_no_adyacentes(G_LIT_Reguly,3)"
   ]
  },
  {
   "cell_type": "markdown",
   "metadata": {},
   "source": [
    "Calculamos la probabilidad Pe de que dos nodos no adyacentes cada uno con grado k1 y k2 tengan n vecinos"
   ]
  },
  {
   "cell_type": "code",
   "execution_count": 8,
   "metadata": {},
   "outputs": [],
   "source": [
    "def pares_esperados(red,vecinos,alfa,beta,da,db):\n",
    "    A = nx.adjacency_matrix(red)\n",
    "    A2 = A * A\n",
    "    A = A.toarray()\n",
    "    A2 = A2.toarray()\n",
    "    proba_acum = 0.0\n",
    "    proba_acum_error = 0.0\n",
    "    l = nx.number_of_nodes(red)\n",
    "    i = 0\n",
    "    while i < l:\n",
    "        j = i + 1\n",
    "        while j < l:\n",
    "            enlace_ij = A[i][j]\n",
    "            if enlace_ij == 0:          # no son adyacentes\n",
    "                caminos_ij = A2[i][j]   #cantidad de vecinos en comun\n",
    "                if caminos_ij >= vecinos:\n",
    "                    ki =  list(red.degree)[i][1]\n",
    "                    kj =  list(red.degree)[j][1]\n",
    "                    Pei = 1-(1-beta)*(1-alfa)**ki\n",
    "                    Pej = 1-(1-beta)*(1-alfa)**kj\n",
    "                    pee = Pei*Pej\n",
    "                    pnene = (1-Pei)*(1-Pej)\n",
    "                    proba_acum+= (pee + pnene)\n",
    "                    proba_acum_error+= 2*Pei*Pej*(ki*da+db)*(kj*da+db) \n",
    "            j += 1\n",
    "        i += 1\n",
    "    return proba_acum, proba_acum_error"
   ]
  },
  {
   "cell_type": "code",
   "execution_count": 9,
   "metadata": {},
   "outputs": [],
   "source": [
    "numero_esperado_APMS = pares_esperados(G_APMS,3,0.05,0.2,0.01,0.1)"
   ]
  },
  {
   "cell_type": "code",
   "execution_count": 10,
   "metadata": {},
   "outputs": [],
   "source": [
    "numero_esperado_LIT_Reguly = pares_esperados(G_LIT_Reguly,3,0.043,0.075,0.004,0.022)"
   ]
  },
  {
   "cell_type": "code",
   "execution_count": 11,
   "metadata": {},
   "outputs": [],
   "source": [
    "numero_esperado_Y2H = pares_esperados(G_Y2H,1,0.018,0.17,0.013,0.074)"
   ]
  },
  {
   "cell_type": "code",
   "execution_count": 12,
   "metadata": {},
   "outputs": [],
   "source": [
    "numero_esperado_LIT = pares_esperados(G_LIT,3,0.088,0.23,0.011,0.064)"
   ]
  },
  {
   "cell_type": "code",
   "execution_count": 20,
   "metadata": {},
   "outputs": [
    {
     "data": {
      "text/html": [
       "<div>\n",
       "<style scoped>\n",
       "    .dataframe tbody tr th:only-of-type {\n",
       "        vertical-align: middle;\n",
       "    }\n",
       "\n",
       "    .dataframe tbody tr th {\n",
       "        vertical-align: top;\n",
       "    }\n",
       "\n",
       "    .dataframe thead th {\n",
       "        text-align: right;\n",
       "    }\n",
       "</style>\n",
       "<table border=\"1\" class=\"dataframe\">\n",
       "  <thead>\n",
       "    <tr style=\"text-align: right;\">\n",
       "      <th></th>\n",
       "      <th></th>\n",
       "      <th>Expected number of pairs of the same type</th>\n",
       "      <th>Total number of pairs</th>\n",
       "      <th>Total number of pairs of the same type</th>\n",
       "    </tr>\n",
       "  </thead>\n",
       "  <tbody>\n",
       "    <tr>\n",
       "      <th>0</th>\n",
       "      <td>AP/MS</td>\n",
       "      <td>7736.150000</td>\n",
       "      <td>11613</td>\n",
       "      <td>5924</td>\n",
       "    </tr>\n",
       "    <tr>\n",
       "      <th>1</th>\n",
       "      <td>Y2H</td>\n",
       "      <td>14164.446468</td>\n",
       "      <td>23073</td>\n",
       "      <td>15019</td>\n",
       "    </tr>\n",
       "    <tr>\n",
       "      <th>2</th>\n",
       "      <td>LIT</td>\n",
       "      <td>402.344152</td>\n",
       "      <td>730</td>\n",
       "      <td>393</td>\n",
       "    </tr>\n",
       "    <tr>\n",
       "      <th>3</th>\n",
       "      <td>LIT-Reguly</td>\n",
       "      <td>5608.354950</td>\n",
       "      <td>10772</td>\n",
       "      <td>6158</td>\n",
       "    </tr>\n",
       "  </tbody>\n",
       "</table>\n",
       "</div>"
      ],
      "text/plain": [
       "               Expected number of pairs of the same type  \\\n",
       "0       AP/MS                                7736.150000   \n",
       "1         Y2H                               14164.446468   \n",
       "2         LIT                                 402.344152   \n",
       "3  LIT-Reguly                                5608.354950   \n",
       "\n",
       "   Total number of pairs  Total number of pairs of the same type  \n",
       "0                  11613                                    5924  \n",
       "1                  23073                                   15019  \n",
       "2                    730                                     393  \n",
       "3                  10772                                    6158  "
      ]
     },
     "execution_count": 20,
     "metadata": {},
     "output_type": "execute_result"
    }
   ],
   "source": [
    "data = pd.DataFrame({\" \":[\"AP/MS\",'Y2H','LIT','LIT-Reguly'],\n",
    "                     \"Total number of pairs\":[pares_no_adyacentes_APMS[0],pares_no_adyacentes_Y2H[0],pares_no_adyacentes_LIT[0],pares_no_adyacentes_LIT_Reguly[0]],\n",
    "                     \"Total number of pairs of the same type\":[pares_no_adyacentes_APMS[1],pares_no_adyacentes_Y2H[1],pares_no_adyacentes_LIT[1],pares_no_adyacentes_LIT_Reguly[1]],\n",
    "                     \"Expected number of pairs of the same type\":[round(numero_esperado_APMS[0],2),numero_esperado_Y2H[0],numero_esperado_LIT[0],numero_esperado_LIT_Reguly[0]],\n",
    "                     })\n",
    "data\n",
    "#round(,2)"
   ]
  },
  {
   "cell_type": "code",
   "execution_count": null,
   "metadata": {},
   "outputs": [],
   "source": []
  }
 ],
 "metadata": {
  "kernelspec": {
   "display_name": "Python 2",
   "language": "python",
   "name": "python2"
  },
  "language_info": {
   "codemirror_mode": {
    "name": "ipython",
    "version": 2
   },
   "file_extension": ".py",
   "mimetype": "text/x-python",
   "name": "python",
   "nbconvert_exporter": "python",
   "pygments_lexer": "ipython2",
   "version": "2.7.15"
  }
 },
 "nbformat": 4,
 "nbformat_minor": 2
}
