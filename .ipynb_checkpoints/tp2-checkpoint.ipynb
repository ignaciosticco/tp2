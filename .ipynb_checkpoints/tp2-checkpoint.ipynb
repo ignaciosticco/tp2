{
 "cells": [
  {
   "cell_type": "markdown",
   "metadata": {},
   "source": [
    "# Trabajo Practico 2 - Sistemas Complejos"
   ]
  },
  {
   "cell_type": "code",
   "execution_count": 1,
   "metadata": {},
   "outputs": [
    {
     "name": "stderr",
     "output_type": "stream",
     "text": [
      "/usr/local/lib/python3.5/dist-packages/pandas/core/computation/__init__.py:18: UserWarning: The installed version of numexpr 2.4.3 is not supported in pandas and will be not be used\n",
      "The minimum supported version is 2.4.6\n",
      "\n",
      "  ver=ver, min_ver=_MIN_NUMEXPR_VERSION), UserWarning)\n"
     ]
    }
   ],
   "source": [
    "import networkx as nx\n",
    "import numpy as np\n",
    "import matplotlib.pyplot as plt\n",
    "import pandas as pd\n",
    "from io import StringIO"
   ]
  },
  {
   "cell_type": "markdown",
   "metadata": {},
   "source": [
    "Importacion de redes "
   ]
  },
  {
   "cell_type": "code",
   "execution_count": 2,
   "metadata": {
    "collapsed": true
   },
   "outputs": [],
   "source": [
    "G_APMS = nx.read_edgelist('yeast_AP-MS.txt')\n",
    "G_Y2H = nx.read_edgelist('yeast_Y2H.txt')\n",
    "G_LIT = nx.read_edgelist('yeast_LIT.txt')\n",
    "\n",
    "G_LIT_Reguly = nx.Graph()\n",
    "data_lit_reguly = np.genfromtxt(\"yeast_LIT_Reguly.txt\",dtype='unicode',delimiter = '\\t')\n",
    "yeast_LIT_Reguly_raw = [data_lit_reguly[1:,0],data_lit_reguly[1:,1]]\n",
    "\n",
    "i=1\n",
    "while i<len(data_lit_reguly[1:,0]):\n",
    "    G_LIT_Reguly.add_edge(data_lit_reguly[i,0],data_lit_reguly[i,1])\n",
    "    i+=1"
   ]
  },
  {
   "cell_type": "markdown",
   "metadata": {},
   "source": [
    "Caracteristicas basicas de la red"
   ]
  },
  {
   "cell_type": "code",
   "execution_count": 3,
   "metadata": {
    "collapsed": true
   },
   "outputs": [],
   "source": [
    "def caracteristicas_basicas(G):\n",
    "    numero_nodos = G.number_of_nodes()\n",
    "    numero_enlaces = G.number_of_edges()\n",
    "    grado_medio = np.round(np.true_divide(numero_enlaces,numero_nodos),2)\n",
    "    average_clustering_coeficient = round(nx.average_clustering(G),2)\n",
    "    resultado=[numero_nodos,numero_enlaces,grado_medio,average_clustering_coeficient]\n",
    "    return resultado\n"
   ]
  },
  {
   "cell_type": "markdown",
   "metadata": {},
   "source": [
    "Procesamiento de caracteristicas basicas de todas las redes"
   ]
  },
  {
   "cell_type": "code",
   "execution_count": 4,
   "metadata": {
    "collapsed": true
   },
   "outputs": [],
   "source": [
    "resultado_apms = caracteristicas_basicas(G_APMS)\n",
    "resultado_y2h = caracteristicas_basicas(G_Y2H)\n",
    "resultado_lit = caracteristicas_basicas(G_LIT)\n",
    "resultado_lit_reguly = caracteristicas_basicas(G_LIT_Reguly)"
   ]
  },
  {
   "cell_type": "code",
   "execution_count": 5,
   "metadata": {},
   "outputs": [
    {
     "data": {
      "text/html": [
       "<div>\n",
       "<style>\n",
       "    .dataframe thead tr:only-child th {\n",
       "        text-align: right;\n",
       "    }\n",
       "\n",
       "    .dataframe thead th {\n",
       "        text-align: left;\n",
       "    }\n",
       "\n",
       "    .dataframe tbody tr th {\n",
       "        vertical-align: top;\n",
       "    }\n",
       "</style>\n",
       "<table border=\"1\" class=\"dataframe\">\n",
       "  <thead>\n",
       "    <tr style=\"text-align: right;\">\n",
       "      <th></th>\n",
       "      <th></th>\n",
       "      <th>Average clustering coefficient</th>\n",
       "      <th>Average degree</th>\n",
       "      <th>Number of Edges</th>\n",
       "      <th>Number of Nodes</th>\n",
       "    </tr>\n",
       "  </thead>\n",
       "  <tbody>\n",
       "    <tr>\n",
       "      <th>0</th>\n",
       "      <td>AP/MS</td>\n",
       "      <td>0.55</td>\n",
       "      <td>5.59</td>\n",
       "      <td>9070</td>\n",
       "      <td>1622</td>\n",
       "    </tr>\n",
       "    <tr>\n",
       "      <th>1</th>\n",
       "      <td>Y2H</td>\n",
       "      <td>0.05</td>\n",
       "      <td>1.45</td>\n",
       "      <td>2930</td>\n",
       "      <td>2018</td>\n",
       "    </tr>\n",
       "    <tr>\n",
       "      <th>2</th>\n",
       "      <td>LIT</td>\n",
       "      <td>0.29</td>\n",
       "      <td>1.90</td>\n",
       "      <td>2925</td>\n",
       "      <td>1536</td>\n",
       "    </tr>\n",
       "    <tr>\n",
       "      <th>3</th>\n",
       "      <td>LIT-Reguly</td>\n",
       "      <td>0.26</td>\n",
       "      <td>3.59</td>\n",
       "      <td>11857</td>\n",
       "      <td>3307</td>\n",
       "    </tr>\n",
       "  </tbody>\n",
       "</table>\n",
       "</div>"
      ],
      "text/plain": [
       "               Average clustering coefficient  Average degree  \\\n",
       "0       AP/MS                            0.55            5.59   \n",
       "1         Y2H                            0.05            1.45   \n",
       "2         LIT                            0.29            1.90   \n",
       "3  LIT-Reguly                            0.26            3.59   \n",
       "\n",
       "   Number of Edges  Number of Nodes  \n",
       "0             9070             1622  \n",
       "1             2930             2018  \n",
       "2             2925             1536  \n",
       "3            11857             3307  "
      ]
     },
     "execution_count": 5,
     "metadata": {},
     "output_type": "execute_result"
    }
   ],
   "source": [
    "data = pd.DataFrame({\" \":[\"AP/MS\",'Y2H','LIT','LIT-Reguly'],\n",
    "                     \"Number of Nodes\":[resultado_apms[0],resultado_y2h[0],resultado_lit[0],resultado_lit_reguly[0]],\n",
    "                     \"Number of Edges\":[resultado_apms[1],resultado_y2h[1],resultado_lit[1],resultado_lit_reguly[1]],\n",
    "                     \"Average degree\":[resultado_apms[2],resultado_y2h[2],resultado_lit[2],resultado_lit_reguly[2]],\n",
    "                     \"Average clustering coefficient\":[resultado_apms[3],resultado_y2h[3],resultado_lit[3],resultado_lit_reguly[3]]\n",
    "                    })\n",
    "data\n",
    "\n"
   ]
  },
  {
   "cell_type": "markdown",
   "metadata": {},
   "source": [
    "Superposición de dos redes\n",
    "\n",
    "La siguiente función remueve los nodos de la primera red que no estan en la segunda red. "
   ]
  },
  {
   "cell_type": "code",
   "execution_count": 6,
   "metadata": {
    "collapsed": true
   },
   "outputs": [],
   "source": [
    "def intersection(red1,red2):\n",
    "    red_interseccion = nx.intersection(red1,red2)\n",
    "    \n",
    "    resultado = red_interseccion.number_of_edges()\n",
    "    return resultado\n"
   ]
  },
  {
   "cell_type": "code",
   "execution_count": 7,
   "metadata": {
    "collapsed": true
   },
   "outputs": [],
   "source": [
    "def superposicion(red1,red2):\n",
    "    copia_red1=red1.copy()\n",
    "    copia_red2=red2.copy()\n",
    "    \n",
    "    copia_red1.remove_nodes_from(n for n in red1 if n not in red2)\n",
    "    copia_red2.remove_nodes_from(n for n in red2 if n not in red1)\n",
    "    \n",
    "    superposicion = intersection(copia_red1,copia_red2)\n",
    "    return superposicion \n"
   ]
  },
  {
   "cell_type": "code",
   "execution_count": 8,
   "metadata": {},
   "outputs": [
    {
     "data": {
      "text/plain": [
       "260"
      ]
     },
     "execution_count": 8,
     "metadata": {},
     "output_type": "execute_result"
    }
   ],
   "source": [
    "superposicion(G_Y2H,G_APMS)"
   ]
  },
  {
   "cell_type": "code",
   "execution_count": 9,
   "metadata": {
    "collapsed": true
   },
   "outputs": [],
   "source": [
    "def superposicion_redes(redes):\n",
    "    i = 0\n",
    "    l = len(redes)\n",
    "    matriz_superposicion = np.zeros((l,l))\n",
    "    while i < l:\n",
    "        red_i = redes[i]\n",
    "        j = i+1\n",
    "        while j < l:\n",
    "            red_j = redes[j]\n",
    "            valor = superposicion(red_i,red_j)\n",
    "            matriz_superposicion[i][j] = valor / red_i.number_of_edges()\n",
    "            matriz_superposicion[j][i] = valor / red_j.number_of_edges()\n",
    "            j+=1\n",
    "        i+=1\n",
    "    return matriz_superposicion"
   ]
  },
  {
   "cell_type": "code",
   "execution_count": 10,
   "metadata": {},
   "outputs": [
    {
     "data": {
      "text/plain": [
       "array([[ 0.        ,  0.02866593,  0.14310915,  0.27783903],\n",
       "       [ 0.0887372 ,  0.        ,  0.0887372 ,  0.16348123],\n",
       "       [ 0.44376068,  0.08888889,  0.        ,  0.97777778],\n",
       "       [ 0.21253268,  0.04039808,  0.24120773,  0.        ]])"
      ]
     },
     "execution_count": 10,
     "metadata": {},
     "output_type": "execute_result"
    }
   ],
   "source": [
    "#Falta escribir bien la tabla\n",
    "redes = [G_APMS,G_Y2H,G_LIT,G_LIT_Reguly]\n",
    "superposicion_redes(redes)"
   ]
  },
  {
   "cell_type": "code",
   "execution_count": 11,
   "metadata": {
    "collapsed": true
   },
   "outputs": [],
   "source": [
    "G_ESSENTIAL = nx.Graph()\n",
    "data_G_ESSENTIAL = np.genfromtxt(\"Essential_ORFs_paperHe.txt\",dtype='unicode',delimiter = '\\t')\n",
    "yeast_G_ESSENTIAL_raw = [data_G_ESSENTIAL[2:,1]]\n",
    "\n",
    "i = 0\n",
    "l = len(yeast_G_ESSENTIAL_raw[0][:])\n",
    "\n",
    "while i < l:\n",
    "    proteina = yeast_G_ESSENTIAL_raw[0][i]\n",
    "    yeast_G_ESSENTIAL_raw[0][i] = proteina.rstrip(\" \")\n",
    "    i+=1"
   ]
  },
  {
   "cell_type": "code",
   "execution_count": 12,
   "metadata": {
    "collapsed": true
   },
   "outputs": [],
   "source": [
    "# Le agregamos el atributo \"genero\" al grafo G\n",
    "\n",
    "def agrega_esencialidad(red,lista_esencial):\n",
    "    \n",
    "    j = 0\n",
    "    l = len(red)\n",
    "    while j < l:\n",
    "        nombre = list(red)[j]\n",
    "        red.node[nombre]['esencialidad']=0\n",
    "        j += 1\n",
    "    \n",
    "    for i in lista_esencial[0]:\n",
    "        if (i in red):\n",
    "            red.node[i]['esencialidad']=1\n",
    "    return\n"
   ]
  },
  {
   "cell_type": "code",
   "execution_count": 80,
   "metadata": {
    "collapsed": true
   },
   "outputs": [],
   "source": [
    "agrega_esencialidad(G_APMS,yeast_G_ESSENTIAL_raw)\n",
    "agrega_esencialidad(G_LIT,yeast_G_ESSENTIAL_raw)"
   ]
  },
  {
   "cell_type": "markdown",
   "metadata": {},
   "source": [
    "Analisis de hubs\n",
    "\n",
    "En primer lugar calculamos la distribución de grado"
   ]
  },
  {
   "cell_type": "code",
   "execution_count": 14,
   "metadata": {
    "collapsed": true
   },
   "outputs": [],
   "source": [
    "def maximo_grado(red):\n",
    "    cantidad_nodos = red.number_of_nodes()\n",
    "    maximo = 0\n",
    "    i=0\n",
    "    while i<cantidad_nodos:\n",
    "        if list(red.degree)[i][1]>maximo:\n",
    "            maximo = list(red.degree)[i][1]\n",
    "        i+=1\n",
    "    return maximo"
   ]
  },
  {
   "cell_type": "code",
   "execution_count": 62,
   "metadata": {
    "collapsed": true
   },
   "outputs": [],
   "source": [
    "def distribucion_grado(red):\n",
    "    numero_nodos = red.number_of_nodes()\n",
    "    l = len(red)\n",
    "    m = maximo_grado(red)\n",
    "    vector_nodos_esenciales= np.zeros(m+1)\n",
    "    vector_grados= np.zeros(m+1)\n",
    "    i = 0\n",
    "    while i < l:\n",
    "        grado = list(red.degree)[i][1]\n",
    "        vector_grados[grado] += 1\n",
    "        \n",
    "        nombre = list(red)[i]\n",
    "        esencialidad_nodo = red.node[nombre]['esencialidad']\n",
    "        \n",
    "        if (esencialidad_nodo==1):\n",
    "            vector_nodos_esenciales[grado] += 1\n",
    "        i+=1\n",
    "    return (vector_grados,vector_nodos_esenciales)                        \n",
    "    \n"
   ]
  },
  {
   "cell_type": "code",
   "execution_count": 74,
   "metadata": {},
   "outputs": [],
   "source": [
    "hubs_APMS = distribucion_grado(G_APMS)"
   ]
  },
  {
   "cell_type": "code",
   "execution_count": 75,
   "metadata": {
    "collapsed": true
   },
   "outputs": [],
   "source": [
    "def hub_definition(hubs):\n",
    "    vector_grados = hubs[0]\n",
    "    vector_esencial = hubs[1]\n",
    "    i = 1\n",
    "    l = len(vector_grados)\n",
    "    eje_x= np.zeros(l)\n",
    "    eje_y= np.zeros(l)\n",
    "    total_nodos = np.sum(vector_grados)\n",
    "    while (i < l+1):\n",
    "        eje_x[i-1]=np.sum(vector_grados[l-i:l])/(float(total_nodos))\n",
    "        eje_y[i-1]=np.sum(vector_esencial[l-i:l])/np.sum(vector_grados[l-i:l])\n",
    "        i+=1\n",
    "        \n",
    "    return(eje_x,eje_y)\n",
    "        \n",
    "        "
   ]
  },
  {
   "cell_type": "code",
   "execution_count": 76,
   "metadata": {},
   "outputs": [],
   "source": [
    "eje_x = hub_definition(hubs_APMS)[0][:]\n",
    "eje_y = hub_definition(hubs_APMS)[1][:]"
   ]
  },
  {
   "cell_type": "code",
   "execution_count": 77,
   "metadata": {},
   "outputs": [
    {
     "data": {
      "image/png": "[encoded data removed]",
      "text/plain": [
       "<matplotlib.figure.Figure at 0x7f32c80420b8>"
      ]
     },
     "metadata": {},
     "output_type": "display_data"
    }
   ],
   "source": [
    "plt.plot(eje_x, eje_y, 'g-')\n",
    "plt.show()"
   ]
  },
  {
   "cell_type": "code",
   "execution_count": 81,
   "metadata": {},
   "outputs": [],
   "source": [
    "hubs_LIT = distribucion_grado(G_LIT)"
   ]
  },
  {
   "cell_type": "code",
   "execution_count": 82,
   "metadata": {
    "collapsed": true
   },
   "outputs": [],
   "source": [
    "eje_x = hub_definition(hubs_LIT)[0][:]\n",
    "eje_y = hub_definition(hubs_LIT)[1][:]"
   ]
  },
  {
   "cell_type": "code",
   "execution_count": 83,
   "metadata": {},
   "outputs": [
    {
     "data": {
      "image/png": "[encoded data removed]",
      "text/plain": [
       "<matplotlib.figure.Figure at 0x7f32c8031080>"
      ]
     },
     "metadata": {},
     "output_type": "display_data"
    }
   ],
   "source": [
    "plt.plot(eje_x, eje_y, 'g-')\n",
    "plt.show()"
   ]
  },
  {
   "cell_type": "code",
   "execution_count": null,
   "metadata": {
    "collapsed": true
   },
   "outputs": [],
   "source": [
    "'''\n",
    "funcion_remove_random(red,umbral):\n",
    "    #umbral = hasta donde llega el eje x\n",
    "    copia_red\n",
    "    inicilizar vectores para el grafico\n",
    "    porcentaje = 0\n",
    "    cantidad_maxima_nodos_removidos = umbral*cantidad_nodos\n",
    "    for i=0:cantidad_maxima_nodos_removidos\n",
    "        eje_x=[i/cantidad_nodos]\n",
    "        copia_red = le quitamos un nodo al azar\n",
    "        calculo = calcula_tamaño_comp_gigante(copia_red)/tamaño_componente_gigante_original\n",
    "        \n",
    "        eje_y+=[calculo]\n",
    "    return(eje_x,eje_y)    \n",
    "'''\n"
   ]
  }
 ],
 "metadata": {
  "kernelspec": {
   "display_name": "Python 2",
   "language": "python",
   "name": "python2"
  },
  "language_info": {
   "codemirror_mode": {
    "name": "ipython",
    "version": 3
   },
   "file_extension": ".py",
   "mimetype": "text/x-python",
   "name": "python",
   "nbconvert_exporter": "python",
   "pygments_lexer": "ipython3",
   "version": "3.5.2"
  }
 },
 "nbformat": 4,
 "nbformat_minor": 2
}
