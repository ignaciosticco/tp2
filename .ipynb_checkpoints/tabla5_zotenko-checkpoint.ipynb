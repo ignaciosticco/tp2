{
 "cells": [
  {
   "cell_type": "code",
   "execution_count": 1,
   "metadata": {},
   "outputs": [],
   "source": [
    "import networkx as nx\n",
    "import numpy as np\n",
    "import matplotlib.pyplot as plt\n",
    "import pylab\n",
    "import math\n",
    "import pandas as pd\n",
    "from io import StringIO\n",
    "import random\n",
    "import scipy\n",
    "import operator"
   ]
  },
  {
   "cell_type": "code",
   "execution_count": 2,
   "metadata": {},
   "outputs": [],
   "source": [
    "G_APMS = nx.read_edgelist('yeast_AP-MS.txt')\n",
    "G_Y2H = nx.read_edgelist('yeast_Y2H.txt')\n",
    "G_LIT = nx.read_edgelist('yeast_LIT.txt')\n",
    "\n",
    "G_LIT_Reguly = nx.Graph()\n",
    "data_lit_reguly = np.genfromtxt(\"yeast_LIT_Reguly.txt\",dtype='unicode',delimiter = '\\t')\n",
    "yeast_LIT_Reguly_raw = [data_lit_reguly[1:,0],data_lit_reguly[1:,1]]\n",
    "\n",
    "i=1\n",
    "while i<len(data_lit_reguly[1:,0]):\n",
    "    G_LIT_Reguly.add_edge(data_lit_reguly[i,0],data_lit_reguly[i,1])\n",
    "    i+=1"
   ]
  },
  {
   "cell_type": "code",
   "execution_count": 3,
   "metadata": {},
   "outputs": [],
   "source": [
    "G_ESSENTIAL = nx.Graph()\n",
    "data_G_ESSENTIAL = np.genfromtxt(\"Essential_ORFs_paperHe.txt\",dtype='unicode',delimiter = '\\t')\n",
    "yeast_G_ESSENTIAL_raw = [data_G_ESSENTIAL[2:,1]]\n",
    "\n",
    "i = 0\n",
    "l = len(yeast_G_ESSENTIAL_raw[0][:])\n",
    "\n",
    "while i < l:\n",
    "    proteina = yeast_G_ESSENTIAL_raw[0][i]\n",
    "    yeast_G_ESSENTIAL_raw[0][i] = proteina.rstrip(\" \")\n",
    "    i+=1"
   ]
  },
  {
   "cell_type": "code",
   "execution_count": 4,
   "metadata": {},
   "outputs": [],
   "source": [
    "def agrega_esencialidad(red,lista_esencial):\n",
    "    \n",
    "    j = 0\n",
    "    l = len(red)\n",
    "    while j < l:\n",
    "        nombre = list(red)[j]\n",
    "        red.node[nombre]['esencialidad']=0\n",
    "        j += 1\n",
    "    \n",
    "    for i in lista_esencial[0]:\n",
    "        if (i in red):\n",
    "            red.node[i]['esencialidad']=1\n",
    "    return"
   ]
  },
  {
   "cell_type": "code",
   "execution_count": 5,
   "metadata": {},
   "outputs": [],
   "source": [
    "agrega_esencialidad(G_APMS,yeast_G_ESSENTIAL_raw)\n",
    "agrega_esencialidad(G_Y2H,yeast_G_ESSENTIAL_raw)\n",
    "agrega_esencialidad(G_LIT,yeast_G_ESSENTIAL_raw)\n",
    "agrega_esencialidad(G_LIT_Reguly,yeast_G_ESSENTIAL_raw)"
   ]
  },
  {
   "cell_type": "code",
   "execution_count": 6,
   "metadata": {},
   "outputs": [],
   "source": [
    "#Aij² es la cantidad de caminos desde i hasta j para ir en dos pasos\n",
    "A = nx.adjacency_matrix(G_APMS)  # Matriz de adycencia\n",
    "#(A*A)ij = n significa que hay n caminos (n vecinos en comun) para ir desde i hasta j en dos pasos\n",
    "#me debo fijar que Aij = 0 (no sean vecinos) y que n >=3"
   ]
  },
  {
   "cell_type": "code",
   "execution_count": 7,
   "metadata": {},
   "outputs": [],
   "source": [
    "def tabla3(red,vecinos):\n",
    "    A = nx.adjacency_matrix(red)\n",
    "    A2 = A * A\n",
    "    A = A.toarray()\n",
    "    A2 = A2.toarray()\n",
    "    contador_tipo_indiferente = 0\n",
    "    contador_mismo_tipo = 0\n",
    "    l = nx.number_of_nodes(red)\n",
    "    i = 0\n",
    "    while i < l:\n",
    "        j = i + 1\n",
    "        while j < l:\n",
    "            enlace_ij = A[i][j]\n",
    "            if enlace_ij == 0:    #no son adyacentes\n",
    "                caminos_ij = A2[i][j]   #cantidad de vecinos en comun\n",
    "                if caminos_ij >= vecinos:\n",
    "                    contador_tipo_indiferente += 1\n",
    "                    nombre_i = list(red)[i]\n",
    "                    nombre_j = list(red)[j]\n",
    "                    esencialidad_nodo_i = red.node[nombre_i]['esencialidad']\n",
    "                    esencialidad_nodo_j = red.node[nombre_j]['esencialidad']   \n",
    "                    if esencialidad_nodo_i==esencialidad_nodo_j:\n",
    "                        contador_mismo_tipo +=1\n",
    "            j += 1\n",
    "        i += 1\n",
    "    return (contador_tipo_indiferente,contador_mismo_tipo)\n",
    "    "
   ]
  },
  {
   "cell_type": "code",
   "execution_count": 8,
   "metadata": {},
   "outputs": [],
   "source": [
    "tabla3_APMS = tabla3(G_APMS,3)\n",
    "tabla3_Y2H = tabla3(G_Y2H,1)\n",
    "tabla3_LIT = tabla3(G_LIT,3)\n",
    "tabla3_LIT_Reguly = tabla3(G_LIT_Reguly,3)"
   ]
  },
  {
   "cell_type": "code",
   "execution_count": 9,
   "metadata": {},
   "outputs": [],
   "source": [
    "def asignacion_random_esencialidad(red,beta):\n",
    "    copia_red=red.copy()\n",
    "    l = nx.number_of_nodes(red)\n",
    "    i = 0\n",
    "    while i < l:\n",
    "        nombre = list(copia_red)[i]\n",
    "        numero_random = random.random()\n",
    "        #print(numero_random)\n",
    "        if numero_random <= beta:\n",
    "            copia_red.node[nombre]['esencialidad']=1\n",
    "        else:\n",
    "            copia_red.node[nombre]['esencialidad']=0\n",
    "        i+=1    \n",
    "    \n",
    "    return copia_red    "
   ]
  },
  {
   "cell_type": "code",
   "execution_count": 10,
   "metadata": {},
   "outputs": [],
   "source": [
    "def pares_esperados_modelo(red,beta,vecinos):\n",
    "    i = 0\n",
    "    it = 1\n",
    "    vector_resultados = []\n",
    "    while i < it:\n",
    "        nueva_red = asignacion_random_esencialidad(red,beta)\n",
    "        resultado = tabla3(nueva_red,vecinos)\n",
    "        vector_resultados += [resultado[1]]\n",
    "        i+=1\n",
    "    \n",
    "    medio = np.mean(vector_resultados)\n",
    "    desviacion = np.std(vector_resultados)\n",
    "    \n",
    "    return(medio,desviacion)"
   ]
  },
  {
   "cell_type": "code",
   "execution_count": 11,
   "metadata": {},
   "outputs": [],
   "source": [
    "pares_esperados_APMS = pares_esperados_modelo(G_APMS,0.2,3)\n",
    "pares_esperados_Y2H = pares_esperados_modelo(G_Y2H,0.17,1)\n",
    "pares_esperados_LIT = pares_esperados_modelo(G_LIT,0.23,3)\n",
    "pares_esperados_LIT_Reguly = pares_esperados_modelo(G_LIT_Reguly,0.075,3)"
   ]
  },
  {
   "cell_type": "code",
   "execution_count": 12,
   "metadata": {},
   "outputs": [
    {
     "data": {
      "text/html": [
       "<div>\n",
       "<style scoped>\n",
       "    .dataframe tbody tr th:only-of-type {\n",
       "        vertical-align: middle;\n",
       "    }\n",
       "\n",
       "    .dataframe tbody tr th {\n",
       "        vertical-align: top;\n",
       "    }\n",
       "\n",
       "    .dataframe thead th {\n",
       "        text-align: right;\n",
       "    }\n",
       "</style>\n",
       "<table border=\"1\" class=\"dataframe\">\n",
       "  <thead>\n",
       "    <tr style=\"text-align: right;\">\n",
       "      <th></th>\n",
       "      <th></th>\n",
       "      <th>Expected number of pairs of the same type</th>\n",
       "      <th>Total number of pairs</th>\n",
       "      <th>Total number of pairs of the same type</th>\n",
       "    </tr>\n",
       "  </thead>\n",
       "  <tbody>\n",
       "    <tr>\n",
       "      <th>0</th>\n",
       "      <td>AP/MS</td>\n",
       "      <td>8361.0</td>\n",
       "      <td>11613</td>\n",
       "      <td>5924</td>\n",
       "    </tr>\n",
       "    <tr>\n",
       "      <th>1</th>\n",
       "      <td>Y2H</td>\n",
       "      <td>16493.0</td>\n",
       "      <td>23073</td>\n",
       "      <td>15019</td>\n",
       "    </tr>\n",
       "    <tr>\n",
       "      <th>2</th>\n",
       "      <td>LIT</td>\n",
       "      <td>507.0</td>\n",
       "      <td>730</td>\n",
       "      <td>393</td>\n",
       "    </tr>\n",
       "    <tr>\n",
       "      <th>3</th>\n",
       "      <td>LIT-Reguly</td>\n",
       "      <td>9371.0</td>\n",
       "      <td>10772</td>\n",
       "      <td>6158</td>\n",
       "    </tr>\n",
       "  </tbody>\n",
       "</table>\n",
       "</div>"
      ],
      "text/plain": [
       "               Expected number of pairs of the same type  \\\n",
       "0       AP/MS                                     8361.0   \n",
       "1         Y2H                                    16493.0   \n",
       "2         LIT                                      507.0   \n",
       "3  LIT-Reguly                                     9371.0   \n",
       "\n",
       "   Total number of pairs  Total number of pairs of the same type  \n",
       "0                  11613                                    5924  \n",
       "1                  23073                                   15019  \n",
       "2                    730                                     393  \n",
       "3                  10772                                    6158  "
      ]
     },
     "execution_count": 12,
     "metadata": {},
     "output_type": "execute_result"
    }
   ],
   "source": [
    "data = pd.DataFrame({\" \":[\"AP/MS\",'Y2H','LIT','LIT-Reguly'],\n",
    "                     \"Total number of pairs\":[tabla3_APMS[0],tabla3_Y2H[0],tabla3_LIT[0],tabla3_LIT_Reguly[0]],\n",
    "                     \"Total number of pairs of the same type\":[tabla3_APMS[1],tabla3_Y2H[1],tabla3_LIT[1],tabla3_LIT_Reguly[1]],\n",
    "                     \"Expected number of pairs of the same type\":[pares_esperados_APMS[0],pares_esperados_Y2H[0],pares_esperados_LIT[0],pares_esperados_LIT_Reguly[0]],\n",
    "                     })\n",
    "data\n"
   ]
  },
  {
   "cell_type": "code",
   "execution_count": 13,
   "metadata": {},
   "outputs": [
    {
     "data": {
      "text/plain": [
       "8361.0"
      ]
     },
     "execution_count": 13,
     "metadata": {},
     "output_type": "execute_result"
    }
   ],
   "source": [
    "pares_esperados_APMS[0]"
   ]
  },
  {
   "cell_type": "markdown",
   "metadata": {},
   "source": [
    "Asignamos con probabilida alfa esencialidad a un par de nodos (simula un enlace esencial)"
   ]
  },
  {
   "cell_type": "code",
   "execution_count": 14,
   "metadata": {},
   "outputs": [],
   "source": [
    "def esencialidad_enlaces(red,alfa):\n",
    "    copia_red=red.copy()\n",
    "    l = len(list(copia_red.edges))\n",
    "    i=0\n",
    "    while i< l:\n",
    "        numero_random = random.random()\n",
    "        nombre_1 =  list(copia_red.edges)[i][0]\n",
    "        nombre_2 =  list(copia_red.edges)[i][1]\n",
    "        copia_red.node[nombre_1]['esencialidad']=0\n",
    "        copia_red.node[nombre_2]['esencialidad']=0\n",
    "        if numero_random <= alfa:\n",
    "            copia_red.node[nombre_1]['esencialidad']=1\n",
    "            copia_red.node[nombre_2]['esencialidad']=1\n",
    "        i+=1\n",
    "    return copia_red"
   ]
  },
  {
   "cell_type": "code",
   "execution_count": 15,
   "metadata": {},
   "outputs": [
    {
     "data": {
      "text/plain": [
       "\"\\ndef asignacion_random_esencialidad_modelo(red,beta):\\n    copia_red=red.copy()\\n    l = nx.number_of_nodes(red)\\n    i = 0\\n    while i < l:\\n        nombre = list(copia_red)[i]\\n        esencialidad_nodo = red.node[nombre]['esencialidad']\\n        #if esencialidad_nodo == 0:\\n        numero_random = random.random()\\n        if numero_random <= beta:\\n            copia_red.node[nombre]['esencialidad']=1\\n        i+=1    \\n    \\n    return copia_red\\n\""
      ]
     },
     "execution_count": 15,
     "metadata": {},
     "output_type": "execute_result"
    }
   ],
   "source": [
    "'''\n",
    "def asignacion_random_esencialidad_modelo(red,beta):\n",
    "    copia_red=red.copy()\n",
    "    l = nx.number_of_nodes(red)\n",
    "    i = 0\n",
    "    while i < l:\n",
    "        nombre = list(copia_red)[i]\n",
    "        esencialidad_nodo = red.node[nombre]['esencialidad']\n",
    "        #if esencialidad_nodo == 0:\n",
    "        numero_random = random.random()\n",
    "        if numero_random <= beta:\n",
    "            copia_red.node[nombre]['esencialidad']=1\n",
    "        i+=1    \n",
    "    \n",
    "    return copia_red\n",
    "'''"
   ]
  },
  {
   "cell_type": "code",
   "execution_count": 27,
   "metadata": {},
   "outputs": [],
   "source": [
    "def asignacion_random_esencialidad_modelo(red,alfa,beta):\n",
    "    copia_red=red.copy()\n",
    "    l = nx.number_of_nodes(red)\n",
    "    i = 0\n",
    "    while i < l:\n",
    "        nombre = list(copia_red)[i]\n",
    "        esencialidad_nodo = red.node[nombre]['esencialidad']\n",
    "        numero_random = random.random()\n",
    "        k =  list(copia_red.degree)[i][1]\n",
    "        Pe = 1-(1-beta)*(1-alfa)**k\n",
    "        if numero_random <= Pe:\n",
    "            copia_red.node[nombre]['esencialidad']=1\n",
    "        else:\n",
    "            copia_red.node[nombre]['esencialidad']=0\n",
    "        i+=1    \n",
    "    return copia_red"
   ]
  },
  {
   "cell_type": "code",
   "execution_count": 28,
   "metadata": {},
   "outputs": [],
   "source": [
    "def distribucion_random_modelo(red,alfa,beta,vecinos):\n",
    "    copia_red=red.copy()\n",
    "    #nueva_red = esencialidad_enlaces(copia_red,alfa)\n",
    "    nueva_red = asignacion_random_esencialidad_modelo(copia_red,alfa,beta)\n",
    "    i = 0\n",
    "    it = 5\n",
    "    vector_resultados = []\n",
    "    while i < it:\n",
    "        vector_resultados += [tabla3(nueva_red,vecinos)]\n",
    "        i+=1\n",
    "    \n",
    "    medio = np.mean(vector_resultados)\n",
    "    desviacion = np.std(vector_resultados)\n",
    "    \n",
    "    return(medio,desviacion)    "
   ]
  },
  {
   "cell_type": "code",
   "execution_count": 41,
   "metadata": {},
   "outputs": [],
   "source": [
    "APMS = distribucion_random_modelo(G_APMS,0.05,0.2,7)"
   ]
  },
  {
   "cell_type": "code",
   "execution_count": 42,
   "metadata": {},
   "outputs": [
    {
     "data": {
      "text/plain": [
       "(4583.5, 657.5)"
      ]
     },
     "execution_count": 42,
     "metadata": {},
     "output_type": "execute_result"
    }
   ],
   "source": [
    "APMS"
   ]
  },
  {
   "cell_type": "code",
   "execution_count": 65,
   "metadata": {},
   "outputs": [],
   "source": [
    "def tabla5(red,vecinos,alfa,beta,da,db):\n",
    "    A = nx.adjacency_matrix(red)\n",
    "    A2 = A * A\n",
    "    A = A.toarray()\n",
    "    A2 = A2.toarray()\n",
    "    proba_acum = 0.0\n",
    "    proba_acum_error = 0.0\n",
    "    l = nx.number_of_nodes(red)\n",
    "    i = 0\n",
    "    while i < l:\n",
    "        j = i + 1\n",
    "        while j < l:\n",
    "            enlace_ij = A[i][j]\n",
    "            if enlace_ij == 0:          # no son adyacentes\n",
    "                caminos_ij = A2[i][j]   #cantidad de vecinos en comun\n",
    "                if caminos_ij >= vecinos:\n",
    "                    ki =  list(red.degree)[i][1]\n",
    "                    kj =  list(red.degree)[j][1]\n",
    "                    Pei = 1-(1-beta)*(1-alfa)**ki\n",
    "                    Pej = 1-(1-beta)*(1-alfa)**kj\n",
    "                    pee = Pei*Pej\n",
    "                    pnene = (1-Pei)*(1-Pej)\n",
    "                    proba_acum+= (pee + pnene)\n",
    "                    proba_acum_error+= ki*da+db +kj*da+db \n",
    "            j += 1\n",
    "        i += 1\n",
    "    return proba_acum, proba_acum_error"
   ]
  },
  {
   "cell_type": "markdown",
   "metadata": {},
   "source": [
    "## titulo"
   ]
  },
  {
   "cell_type": "code",
   "execution_count": 66,
   "metadata": {},
   "outputs": [
    {
     "data": {
      "text/plain": [
       "(18993.06242250597, 0.0)"
      ]
     },
     "execution_count": 66,
     "metadata": {},
     "output_type": "execute_result"
    }
   ],
   "source": [
    "tabla5(G_APMS,3,0.05,0.2,0.01,0.1)"
   ]
  },
  {
   "cell_type": "code",
   "execution_count": 56,
   "metadata": {},
   "outputs": [
    {
     "data": {
      "text/plain": [
       "5608.354949984928"
      ]
     },
     "execution_count": 56,
     "metadata": {},
     "output_type": "execute_result"
    }
   ],
   "source": [
    "tabla5(G_LIT_Reguly,3,0.043,0.075)"
   ]
  },
  {
   "cell_type": "code",
   "execution_count": 57,
   "metadata": {},
   "outputs": [
    {
     "data": {
      "text/plain": [
       "14164.446468052758"
      ]
     },
     "execution_count": 57,
     "metadata": {},
     "output_type": "execute_result"
    }
   ],
   "source": [
    "tabla5(G_Y2H,1,0.018,0.17)"
   ]
  },
  {
   "cell_type": "code",
   "execution_count": 58,
   "metadata": {},
   "outputs": [
    {
     "data": {
      "text/plain": [
       "402.34415229789977"
      ]
     },
     "execution_count": 58,
     "metadata": {},
     "output_type": "execute_result"
    }
   ],
   "source": [
    "tabla5(G_LIT,3,0.088,0.23)"
   ]
  },
  {
   "cell_type": "code",
   "execution_count": 59,
   "metadata": {},
   "outputs": [
    {
     "data": {
      "text/plain": [
       "15323.940070759196"
      ]
     },
     "execution_count": 59,
     "metadata": {},
     "output_type": "execute_result"
    }
   ],
   "source": [
    "tabla5(G_APMS,1,0.05,0.2)"
   ]
  },
  {
   "cell_type": "code",
   "execution_count": 61,
   "metadata": {},
   "outputs": [
    {
     "data": {
      "text/plain": [
       "5360.3783073834575"
      ]
     },
     "execution_count": 61,
     "metadata": {},
     "output_type": "execute_result"
    }
   ],
   "source": [
    "tabla5(G_APMS,5,0.05,0.2)"
   ]
  }
 ],
 "metadata": {
  "kernelspec": {
   "display_name": "Python 2",
   "language": "python",
   "name": "python2"
  },
  "language_info": {
   "codemirror_mode": {
    "name": "ipython",
    "version": 2
   },
   "file_extension": ".py",
   "mimetype": "text/x-python",
   "name": "python",
   "nbconvert_exporter": "python",
   "pygments_lexer": "ipython2",
   "version": "2.7.15"
  }
 },
 "nbformat": 4,
 "nbformat_minor": 2
}
