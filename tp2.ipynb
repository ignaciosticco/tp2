{
 "cells": [
  {
   "cell_type": "markdown",
   "metadata": {},
   "source": [
    "# Trabajo Practico 2 - Sistemas Complejos"
   ]
  },
  {
   "cell_type": "code",
   "execution_count": 25,
   "metadata": {},
   "outputs": [],
   "source": [
    "import networkx as nx\n",
    "import numpy as np\n",
    "import matplotlib.pyplot as plt\n",
    "import pandas as pd\n",
    "from io import StringIO"
   ]
  },
  {
   "cell_type": "code",
   "execution_count": 46,
   "metadata": {},
   "outputs": [],
   "source": [
    "## Importacion de redes ##\n",
    "G_APMS = nx.read_edgelist('yeast_AP-MS.txt')\n",
    "G_Y2H = nx.read_edgelist('yeast_Y2H.txt')\n",
    "G_LIT = nx.read_edgelist('yeast_LIT.txt')"
   ]
  },
  {
   "cell_type": "code",
   "execution_count": 60,
   "metadata": {},
   "outputs": [],
   "source": [
    "### Importacion de LIR_Reguly ###\n",
    "G_LIT_Reguly = nx.Graph()\n",
    "data_lit_reguly = np.genfromtxt(\"yeast_LIT_Reguly.txt\",dtype='unicode',delimiter = '\\t')\n",
    "yeast_LIT_Reguly_raw = [data_lit_reguly[1:,0],data_lit_reguly[1:,1]]\n",
    "#G_LIT_Reguly = nx.read_edgelist('yeast_LIT_Reguly_raw')\n",
    "i=1\n",
    "while i<len(data_lit_reguly[1:,0]):\n",
    "    G_LIT_Reguly.add_edge(data_lit_reguly[i,0],data_lit_reguly[i,1])\n",
    "    i+=1"
   ]
  },
  {
   "cell_type": "code",
   "execution_count": 16,
   "metadata": {},
   "outputs": [],
   "source": [
    "#### Caracteristicas basicas de la red ####\n",
    "def caracteristicas_basicas(G):\n",
    "    numero_nodos = G.number_of_nodes()\n",
    "    numero_enlaces = G.number_of_edges()\n",
    "    grado_medio = np.round(np.true_divide(numero_enlaces,numero_nodos),2)\n",
    "    average_clustering_coeficient = round(nx.average_clustering(G),2)\n",
    "    resultado=[numero_nodos,numero_enlaces,grado_medio,average_clustering_coeficient]\n",
    "    return resultado\n"
   ]
  },
  {
   "cell_type": "code",
   "execution_count": 75,
   "metadata": {
    "collapsed": true
   },
   "outputs": [],
   "source": [
    "#### Procesamiento de caracteristicas basicas de todas las redes ####\n",
    "resultado_apms = caracteristicas_basicas(G_APMS)\n",
    "resultado_y2h = caracteristicas_basicas(G_Y2H)\n",
    "resultado_lit = caracteristicas_basicas(G_LIT)\n",
    "resultado_lit_reguly = caracteristicas_basicas(G_LIT_Reguly)\n"
   ]
  },
  {
   "cell_type": "code",
   "execution_count": 99,
   "metadata": {},
   "outputs": [
    {
     "data": {
      "text/html": [
       "<div>\n",
       "<style>\n",
       "    .dataframe thead tr:only-child th {\n",
       "        text-align: right;\n",
       "    }\n",
       "\n",
       "    .dataframe thead th {\n",
       "        text-align: left;\n",
       "    }\n",
       "\n",
       "    .dataframe tbody tr th {\n",
       "        vertical-align: top;\n",
       "    }\n",
       "</style>\n",
       "<table border=\"1\" class=\"dataframe\">\n",
       "  <thead>\n",
       "    <tr style=\"text-align: right;\">\n",
       "      <th></th>\n",
       "      <th></th>\n",
       "      <th>Average clustering coefficient</th>\n",
       "      <th>Average degree</th>\n",
       "      <th>Number of Edges</th>\n",
       "      <th>Number of Nodes</th>\n",
       "    </tr>\n",
       "  </thead>\n",
       "  <tbody>\n",
       "    <tr>\n",
       "      <th>0</th>\n",
       "      <td>AP/MS</td>\n",
       "      <td>0.55</td>\n",
       "      <td>5.59</td>\n",
       "      <td>9070</td>\n",
       "      <td>1622</td>\n",
       "    </tr>\n",
       "    <tr>\n",
       "      <th>1</th>\n",
       "      <td>Y2H</td>\n",
       "      <td>33.00</td>\n",
       "      <td>33.00</td>\n",
       "      <td>2930</td>\n",
       "      <td>2018</td>\n",
       "    </tr>\n",
       "    <tr>\n",
       "      <th>2</th>\n",
       "      <td>LIT</td>\n",
       "      <td>44.00</td>\n",
       "      <td>44.00</td>\n",
       "      <td>True</td>\n",
       "      <td>Jane</td>\n",
       "    </tr>\n",
       "    <tr>\n",
       "      <th>3</th>\n",
       "      <td>LIT-Reguly</td>\n",
       "      <td>55.00</td>\n",
       "      <td>55.00</td>\n",
       "      <td>True</td>\n",
       "      <td>Jill</td>\n",
       "    </tr>\n",
       "  </tbody>\n",
       "</table>\n",
       "</div>"
      ],
      "text/plain": [
       "               Average clustering coefficient  Average degree Number of Edges  \\\n",
       "0       AP/MS                            0.55            5.59            9070   \n",
       "1         Y2H                           33.00           33.00            2930   \n",
       "2         LIT                           44.00           44.00            True   \n",
       "3  LIT-Reguly                           55.00           55.00            True   \n",
       "\n",
       "  Number of Nodes  \n",
       "0            1622  \n",
       "1            2018  \n",
       "2            Jane  \n",
       "3            Jill  "
      ]
     },
     "execution_count": 99,
     "metadata": {},
     "output_type": "execute_result"
    }
   ],
   "source": [
    "#### COMPLETAR LA TABLA!!!!\n",
    "\n",
    "data = pd.DataFrame({\" \":[\"AP/MS\",'Y2H','LIT','LIT-Reguly'],\n",
    "                     \"Number of Nodes\":[resultado_apms[0],resultado_y2h[0],\"Jane\",\"Jill\"],\n",
    "                     \"Number of Edges\":[resultado_apms[1],resultado_y2h[1],True,True],\n",
    "                     \"Average degree\":[resultado_apms[2],33,44,55],\n",
    "                     \"Average clustering coefficient\":[resultado_apms[3],33,44,55]\n",
    "                    })#empty dataframe\n",
    "data\n",
    "\n"
   ]
  },
  {
   "cell_type": "code",
   "execution_count": 88,
   "metadata": {},
   "outputs": [],
   "source": [
    "#### Enlaces en comun ####\n",
    "def intersection(red1,red2):\n",
    "    red_interseccion = nx.intersection(red1,red2)\n",
    "    resultado = red_interseccion.number_of_edges()\n",
    "    return resultado\n"
   ]
  },
  {
   "cell_type": "code",
   "execution_count": 103,
   "metadata": {},
   "outputs": [
    {
     "data": {
      "text/plain": [
       "260"
      ]
     },
     "execution_count": 103,
     "metadata": {},
     "output_type": "execute_result"
    }
   ],
   "source": [
    "#G_APMS = nx.read_edgelist('yeast_AP-MS.txt')\n",
    "#G_Y2H = nx.read_edgelist('yeast_Y2H.txt')\n",
    "#G_LIT = nx.read_edgelist('yeast_LIT.txt')\n",
    "R=G_APMS.copy()\n",
    "R.remove_nodes_from(n for n in G_APMS if n not in G_Y2H)\n",
    "\n",
    "P=G_Y2H.copy()\n",
    "P.remove_nodes_from(n for n in G_Y2H if n not in G_APMS)\n",
    "\n",
    "intersection(R,P)"
   ]
  },
  {
   "cell_type": "code",
   "execution_count": 133,
   "metadata": {},
   "outputs": [
    {
     "data": {
      "image/png": "[encoded data removed]",
      "text/plain": [
       "<matplotlib.figure.Figure at 0x7fdc36feebe0>"
      ]
     },
     "metadata": {},
     "output_type": "display_data"
    }
   ],
   "source": [
    "G = nx.empty_graph(4)\n",
    "G.add_edges_from([(0, 2), (2, 1), (3, 1)])\n",
    "nx.draw(G, with_labels=True, font_weight='bold')\n",
    "plt.show()"
   ]
  },
  {
   "cell_type": "code",
   "execution_count": 134,
   "metadata": {},
   "outputs": [
    {
     "data": {
      "image/png": "[encoded data removed]",
      "text/plain": [
       "<matplotlib.figure.Figure at 0x7fdc36b9d438>"
      ]
     },
     "metadata": {},
     "output_type": "display_data"
    }
   ],
   "source": [
    "R = nx.empty_graph(6)\n",
    "R.add_edges_from([(0, 2), (3, 1), (5, 2)])\n",
    "nx.draw(R, with_labels=True, font_weight='bold')\n",
    "plt.show()"
   ]
  },
  {
   "cell_type": "code",
   "execution_count": 140,
   "metadata": {},
   "outputs": [],
   "source": [
    "R1=R.copy()\n",
    "R1.remove_nodes_from(n for n in R if n not in G)"
   ]
  },
  {
   "cell_type": "code",
   "execution_count": 141,
   "metadata": {},
   "outputs": [
    {
     "data": {
      "image/png": "[encoded data removed]",
      "text/plain": [
       "<matplotlib.figure.Figure at 0x7fdc369ec898>"
      ]
     },
     "metadata": {},
     "output_type": "display_data"
    }
   ],
   "source": [
    "nx.draw(R1, with_labels=True, font_weight='bold')\n",
    "plt.show()"
   ]
  },
  {
   "cell_type": "code",
   "execution_count": null,
   "metadata": {
    "collapsed": true
   },
   "outputs": [],
   "source": []
  }
 ],
 "metadata": {
  "kernelspec": {
   "display_name": "Python 2",
   "language": "python",
   "name": "python2"
  },
  "language_info": {
   "codemirror_mode": {
    "name": "ipython",
    "version": 3
   },
   "file_extension": ".py",
   "mimetype": "text/x-python",
   "name": "python",
   "nbconvert_exporter": "python",
   "pygments_lexer": "ipython3",
   "version": "3.5.2"
  }
 },
 "nbformat": 4,
 "nbformat_minor": 2
}
