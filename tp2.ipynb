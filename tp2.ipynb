{
 "cells": [
  {
   "cell_type": "markdown",
   "metadata": {},
   "source": [
    "# Trabajo Practico 2 - Sistemas Complejos"
   ]
  },
  {
   "cell_type": "code",
   "execution_count": 33,
   "metadata": {},
   "outputs": [],
   "source": [
    "import networkx as nx\n",
    "import numpy as np\n",
    "import matplotlib.pyplot as plt\n",
    "import pylab\n",
    "import math\n",
    "import pandas as pd\n",
    "from io import StringIO\n",
    "import random"
   ]
  },
  {
   "cell_type": "code",
   "execution_count": 2,
   "metadata": {},
   "outputs": [],
   "source": [
    "golden_mean = (math.sqrt(5)-1.0)/2.0       # Aesthetic ratio\n",
    "fig_width = 7+3/8                          # width  in inches\n",
    "fig_height = fig_width*golden_mean         # height in inches\n",
    "fig_size =  [fig_width,fig_height]\n",
    "\n",
    "params = {'backend': 'ps',\n",
    "          'axes.titlesize': 18,\n",
    "          'axes.labelsize': 19,\n",
    "          'axes.linewidth': 0.7, \n",
    "          'axes.grid': False,\n",
    "          'axes.labelweight': 'normal',  \n",
    "          'font.family': 'serif',\n",
    "          'font.size': 18.0,\n",
    "          'font.weight': 'normal',\n",
    "          'text.color': 'black',\n",
    "          'xtick.labelsize': 18,\n",
    "          'ytick.labelsize': 18,\n",
    "          'text.usetex': True,\n",
    "          'legend.fontsize': 16,\n",
    "          'figure.dpi': 700,\n",
    "          'figure.figsize': fig_size,\n",
    "          'savefig.dpi': 700,\n",
    "         }\n",
    "\n",
    "pylab.rcParams.update(params)"
   ]
  },
  {
   "cell_type": "markdown",
   "metadata": {},
   "source": [
    "Importacion de redes "
   ]
  },
  {
   "cell_type": "code",
   "execution_count": 3,
   "metadata": {},
   "outputs": [],
   "source": [
    "G_APMS = nx.read_edgelist('yeast_AP-MS.txt')\n",
    "G_Y2H = nx.read_edgelist('yeast_Y2H.txt')\n",
    "G_LIT = nx.read_edgelist('yeast_LIT.txt')\n",
    "\n",
    "G_LIT_Reguly = nx.Graph()\n",
    "data_lit_reguly = np.genfromtxt(\"yeast_LIT_Reguly.txt\",dtype='unicode',delimiter = '\\t')\n",
    "yeast_LIT_Reguly_raw = [data_lit_reguly[1:,0],data_lit_reguly[1:,1]]\n",
    "\n",
    "i=1\n",
    "while i<len(data_lit_reguly[1:,0]):\n",
    "    G_LIT_Reguly.add_edge(data_lit_reguly[i,0],data_lit_reguly[i,1])\n",
    "    i+=1"
   ]
  },
  {
   "cell_type": "markdown",
   "metadata": {},
   "source": [
    "Cargamos el archivo que contiene la esencialidad de los nodos"
   ]
  },
  {
   "cell_type": "code",
   "execution_count": 4,
   "metadata": {},
   "outputs": [],
   "source": [
    "G_ESSENTIAL = nx.Graph()\n",
    "data_G_ESSENTIAL = np.genfromtxt(\"Essential_ORFs_paperHe.txt\",dtype='unicode',delimiter = '\\t')\n",
    "yeast_G_ESSENTIAL_raw = [data_G_ESSENTIAL[2:,1]]\n",
    "\n",
    "i = 0\n",
    "l = len(yeast_G_ESSENTIAL_raw[0][:])\n",
    "\n",
    "while i < l:\n",
    "    proteina = yeast_G_ESSENTIAL_raw[0][i]\n",
    "    yeast_G_ESSENTIAL_raw[0][i] = proteina.rstrip(\" \")\n",
    "    i+=1"
   ]
  },
  {
   "cell_type": "markdown",
   "metadata": {},
   "source": [
    "Caracteristicas basicas de la red"
   ]
  },
  {
   "cell_type": "code",
   "execution_count": 5,
   "metadata": {},
   "outputs": [],
   "source": [
    "def caracteristicas_basicas(G):\n",
    "    numero_nodos = G.number_of_nodes()\n",
    "    numero_enlaces = G.number_of_edges()\n",
    "    grado_medio = np.round(np.true_divide(numero_enlaces,numero_nodos),2)\n",
    "    average_clustering_coeficient = round(nx.average_clustering(G),2)\n",
    "    resultado=[numero_nodos,numero_enlaces,grado_medio,average_clustering_coeficient]\n",
    "    return resultado\n"
   ]
  },
  {
   "cell_type": "markdown",
   "metadata": {},
   "source": [
    "Procesamiento de caracteristicas basicas de todas las redes"
   ]
  },
  {
   "cell_type": "code",
   "execution_count": 6,
   "metadata": {},
   "outputs": [],
   "source": [
    "resultado_apms = caracteristicas_basicas(G_APMS)\n",
    "resultado_y2h = caracteristicas_basicas(G_Y2H)\n",
    "resultado_lit = caracteristicas_basicas(G_LIT)\n",
    "resultado_lit_reguly = caracteristicas_basicas(G_LIT_Reguly)"
   ]
  },
  {
   "cell_type": "code",
   "execution_count": 7,
   "metadata": {},
   "outputs": [
    {
     "data": {
      "text/html": [
       "<div>\n",
       "<style scoped>\n",
       "    .dataframe tbody tr th:only-of-type {\n",
       "        vertical-align: middle;\n",
       "    }\n",
       "\n",
       "    .dataframe tbody tr th {\n",
       "        vertical-align: top;\n",
       "    }\n",
       "\n",
       "    .dataframe thead th {\n",
       "        text-align: right;\n",
       "    }\n",
       "</style>\n",
       "<table border=\"1\" class=\"dataframe\">\n",
       "  <thead>\n",
       "    <tr style=\"text-align: right;\">\n",
       "      <th></th>\n",
       "      <th></th>\n",
       "      <th>Average clustering coefficient</th>\n",
       "      <th>Average degree</th>\n",
       "      <th>Number of Edges</th>\n",
       "      <th>Number of Nodes</th>\n",
       "    </tr>\n",
       "  </thead>\n",
       "  <tbody>\n",
       "    <tr>\n",
       "      <th>0</th>\n",
       "      <td>AP/MS</td>\n",
       "      <td>0.55</td>\n",
       "      <td>5.59</td>\n",
       "      <td>9070</td>\n",
       "      <td>1622</td>\n",
       "    </tr>\n",
       "    <tr>\n",
       "      <th>1</th>\n",
       "      <td>Y2H</td>\n",
       "      <td>0.05</td>\n",
       "      <td>1.45</td>\n",
       "      <td>2930</td>\n",
       "      <td>2018</td>\n",
       "    </tr>\n",
       "    <tr>\n",
       "      <th>2</th>\n",
       "      <td>LIT</td>\n",
       "      <td>0.29</td>\n",
       "      <td>1.90</td>\n",
       "      <td>2925</td>\n",
       "      <td>1536</td>\n",
       "    </tr>\n",
       "    <tr>\n",
       "      <th>3</th>\n",
       "      <td>LIT-Reguly</td>\n",
       "      <td>0.26</td>\n",
       "      <td>3.59</td>\n",
       "      <td>11857</td>\n",
       "      <td>3307</td>\n",
       "    </tr>\n",
       "  </tbody>\n",
       "</table>\n",
       "</div>"
      ],
      "text/plain": [
       "               Average clustering coefficient  Average degree  \\\n",
       "0       AP/MS                            0.55            5.59   \n",
       "1         Y2H                            0.05            1.45   \n",
       "2         LIT                            0.29            1.90   \n",
       "3  LIT-Reguly                            0.26            3.59   \n",
       "\n",
       "   Number of Edges  Number of Nodes  \n",
       "0             9070             1622  \n",
       "1             2930             2018  \n",
       "2             2925             1536  \n",
       "3            11857             3307  "
      ]
     },
     "execution_count": 7,
     "metadata": {},
     "output_type": "execute_result"
    }
   ],
   "source": [
    "data = pd.DataFrame({\" \":[\"AP/MS\",'Y2H','LIT','LIT-Reguly'],\n",
    "                     \"Number of Nodes\":[resultado_apms[0],resultado_y2h[0],resultado_lit[0],resultado_lit_reguly[0]],\n",
    "                     \"Number of Edges\":[resultado_apms[1],resultado_y2h[1],resultado_lit[1],resultado_lit_reguly[1]],\n",
    "                     \"Average degree\":[resultado_apms[2],resultado_y2h[2],resultado_lit[2],resultado_lit_reguly[2]],\n",
    "                     \"Average clustering coefficient\":[resultado_apms[3],resultado_y2h[3],resultado_lit[3],resultado_lit_reguly[3]]\n",
    "                    })\n",
    "data\n",
    "\n"
   ]
  },
  {
   "cell_type": "markdown",
   "metadata": {},
   "source": [
    "Superposición de dos redes\n",
    "\n",
    "La siguiente función remueve los nodos de la primera red que no estan en la segunda red. "
   ]
  },
  {
   "cell_type": "code",
   "execution_count": 8,
   "metadata": {},
   "outputs": [],
   "source": [
    "def intersection(red1,red2):\n",
    "    red_interseccion = nx.intersection(red1,red2)\n",
    "    \n",
    "    resultado = red_interseccion.number_of_edges()\n",
    "    return resultado\n"
   ]
  },
  {
   "cell_type": "code",
   "execution_count": 9,
   "metadata": {},
   "outputs": [],
   "source": [
    "def superposicion(red1,red2):\n",
    "    copia_red1=red1.copy()\n",
    "    copia_red2=red2.copy()\n",
    "    \n",
    "    copia_red1.remove_nodes_from(n for n in red1 if n not in red2)\n",
    "    copia_red2.remove_nodes_from(n for n in red2 if n not in red1)\n",
    "    \n",
    "    superposicion = intersection(copia_red1,copia_red2)\n",
    "    return superposicion \n"
   ]
  },
  {
   "cell_type": "code",
   "execution_count": 10,
   "metadata": {},
   "outputs": [],
   "source": [
    "def superposicion_redes(redes):\n",
    "    i = 0\n",
    "    l = len(redes)\n",
    "    matriz_superposicion = np.zeros((l,l))\n",
    "    while i < l:\n",
    "        red_i = redes[i]\n",
    "        j = i+1\n",
    "        while j < l:\n",
    "            red_j = redes[j]\n",
    "            valor = superposicion(red_i,red_j)\n",
    "            matriz_superposicion[i][j] = valor / (float(red_i.number_of_edges()))\n",
    "            matriz_superposicion[j][i] = valor / (float(red_j.number_of_edges()))\n",
    "            j+=1\n",
    "        i+=1\n",
    "        #matriz_superposicion[0][0] = APMS\n",
    "        #matriz_superposicion[1][1] = Y2H\n",
    "        #matriz_superposicion[2][2] = G_LIT\n",
    "        #matriz_superposicion[3][3] = G_LIT_Reguly\n",
    "    return matriz_superposicion"
   ]
  },
  {
   "cell_type": "code",
   "execution_count": 11,
   "metadata": {},
   "outputs": [
    {
     "data": {
      "text/plain": [
       "array([[0.        , 0.02866593, 0.14310915, 0.27783903],\n",
       "       [0.0887372 , 0.        , 0.0887372 , 0.16348123],\n",
       "       [0.44376068, 0.08888889, 0.        , 0.97777778],\n",
       "       [0.21253268, 0.04039808, 0.24120773, 0.        ]])"
      ]
     },
     "execution_count": 11,
     "metadata": {},
     "output_type": "execute_result"
    }
   ],
   "source": [
    "redes = [G_APMS,G_Y2H,G_LIT,G_LIT_Reguly]\n",
    "superposicion_redes(redes)"
   ]
  },
  {
   "cell_type": "markdown",
   "metadata": {},
   "source": [
    "Creamos una función que agrega el atributo \"esencialidad\" al grafo G"
   ]
  },
  {
   "cell_type": "code",
   "execution_count": 12,
   "metadata": {},
   "outputs": [],
   "source": [
    "def agrega_esencialidad(red,lista_esencial):\n",
    "    \n",
    "    j = 0\n",
    "    l = len(red)\n",
    "    while j < l:\n",
    "        nombre = list(red)[j]\n",
    "        red.node[nombre]['esencialidad']=0\n",
    "        j += 1\n",
    "    \n",
    "    for i in lista_esencial[0]:\n",
    "        if (i in red):\n",
    "            red.node[i]['esencialidad']=1\n",
    "    return\n"
   ]
  },
  {
   "cell_type": "markdown",
   "metadata": {},
   "source": [
    "Le agregamos la esencialidad a cada nodo de cada una de las red"
   ]
  },
  {
   "cell_type": "code",
   "execution_count": 13,
   "metadata": {},
   "outputs": [],
   "source": [
    "agrega_esencialidad(G_APMS,yeast_G_ESSENTIAL_raw)\n",
    "agrega_esencialidad(G_Y2H,yeast_G_ESSENTIAL_raw)\n",
    "agrega_esencialidad(G_LIT,yeast_G_ESSENTIAL_raw)\n",
    "agrega_esencialidad(G_LIT_Reguly,yeast_G_ESSENTIAL_raw)"
   ]
  },
  {
   "cell_type": "markdown",
   "metadata": {},
   "source": [
    "Analisis de hubs\n",
    "\n",
    "En primer lugar calculamos la distribución de grado"
   ]
  },
  {
   "cell_type": "code",
   "execution_count": 14,
   "metadata": {},
   "outputs": [],
   "source": [
    "def maximo_grado(red):\n",
    "    cantidad_nodos = red.number_of_nodes()\n",
    "    maximo = 0\n",
    "    i=0\n",
    "    while i<cantidad_nodos:\n",
    "        if list(red.degree)[i][1]>maximo:\n",
    "            maximo = list(red.degree)[i][1]\n",
    "        i+=1\n",
    "    return maximo"
   ]
  },
  {
   "cell_type": "code",
   "execution_count": 15,
   "metadata": {},
   "outputs": [],
   "source": [
    "def distribucion_grado(red):\n",
    "    numero_nodos = red.number_of_nodes()\n",
    "    l = len(red)\n",
    "    m = maximo_grado(red)\n",
    "    vector_nodos_esenciales= np.zeros(m+1)\n",
    "    vector_grados= np.zeros(m+1)\n",
    "    i = 0\n",
    "    while i < l:\n",
    "        grado = list(red.degree)[i][1]\n",
    "        vector_grados[grado] += 1\n",
    "        \n",
    "        nombre = list(red)[i]\n",
    "        esencialidad_nodo = red.node[nombre]['esencialidad']\n",
    "        \n",
    "        if (esencialidad_nodo==1):\n",
    "            vector_nodos_esenciales[grado] += 1\n",
    "        i+=1\n",
    "    return (vector_grados,vector_nodos_esenciales)                        \n",
    "    \n"
   ]
  },
  {
   "cell_type": "code",
   "execution_count": 16,
   "metadata": {},
   "outputs": [],
   "source": [
    "hubs_APMS = distribucion_grado(G_APMS)\n",
    "hubs_Y2H = distribucion_grado(G_Y2H)\n",
    "hubs_LIT = distribucion_grado(G_LIT)\n",
    "hubs_LIT_Reguly = distribucion_grado(G_LIT_Reguly)"
   ]
  },
  {
   "cell_type": "code",
   "execution_count": 17,
   "metadata": {},
   "outputs": [],
   "source": [
    "def hub_definition(hubs):\n",
    "    vector_grados = hubs[0]\n",
    "    vector_esencial = hubs[1]\n",
    "    i = 1\n",
    "    l = len(vector_grados)\n",
    "    eje_x= np.zeros(l)\n",
    "    eje_y= np.zeros(l)\n",
    "    total_nodos = np.sum(vector_grados)\n",
    "    while (i < l+1):\n",
    "        eje_x[i-1]=np.sum(vector_grados[l-i:l])/(float(total_nodos))\n",
    "        eje_y[i-1]=np.sum(vector_esencial[l-i:l])/np.sum(vector_grados[l-i:l])\n",
    "        i+=1\n",
    "        \n",
    "    return(eje_x,eje_y)      "
   ]
  },
  {
   "cell_type": "code",
   "execution_count": 18,
   "metadata": {},
   "outputs": [],
   "source": [
    "eje_x_APMS = hub_definition(hubs_APMS)[0][:]\n",
    "eje_y_APMS = hub_definition(hubs_APMS)[1][:]\n",
    "\n",
    "eje_x_Y2H = hub_definition(hubs_Y2H)[0][:]\n",
    "eje_y_Y2H = hub_definition(hubs_Y2H)[1][:]\n",
    "\n",
    "eje_x_LIT = hub_definition(hubs_LIT)[0][:]\n",
    "eje_y_LIT = hub_definition(hubs_LIT)[1][:]\n",
    "\n",
    "eje_x_LIT_Reguly = hub_definition(hubs_LIT_Reguly)[0][:]\n",
    "eje_y_LIT_Reguly = hub_definition(hubs_LIT_Reguly)[1][:]"
   ]
  },
  {
   "cell_type": "code",
   "execution_count": 19,
   "metadata": {},
   "outputs": [
    {
     "data": {
      "image/png": "[encoded data removed]",
      "text/plain": [
       "<Figure size 504x311.489 with 1 Axes>"
      ]
     },
     "metadata": {},
     "output_type": "display_data"
    }
   ],
   "source": [
    "plt.plot(eje_x_APMS,eje_y_APMS,'-r',label='APMS')\n",
    "plt.plot(eje_x_Y2H,eje_y_Y2H,'-k',label='Y2H')\n",
    "plt.plot(eje_x_LIT,eje_y_LIT,'-b',label='LIT')\n",
    "plt.plot(eje_x_LIT_Reguly,eje_y_LIT_Reguly,'-g',label='LIT Reguly')\n",
    "pylab.xlabel('hub definition cutoff')\n",
    "pylab.ylabel('fraction of ess. nodes')\n",
    "plt.grid(color='gray', linestyle='--')\n",
    "pylab.ylim(0, 1)\n",
    "pylab.xlim(0, 1)\n",
    "plt.legend()\n",
    "plt.show()"
   ]
  },
  {
   "cell_type": "code",
   "execution_count": 21,
   "metadata": {},
   "outputs": [
    {
     "data": {
      "text/plain": [
       "'\\nfuncion_remove_random(red,umbral):\\n    #umbral = hasta donde llega el eje x\\n    copia_red\\n    inicilizar vectores para el grafico\\n    porcentaje = 0\\n    cantidad_maxima_nodos_removidos = umbral*cantidad_nodos\\n    for i=0:cantidad_maxima_nodos_removidos\\n        eje_x=[i/cantidad_nodos]\\n        copia_red = le quitamos un nodo al azar\\n        calculo = calcula_tama\\xc3\\xb1o_comp_gigante(copia_red)/tama\\xc3\\xb1o_componente_gigante_original\\n        \\n        eje_y+=[calculo]\\n    return(eje_x,eje_y)    \\n    \\nListOfNodes = g.nodes()\\nNumberofNodes = g.number_of_nodes()\\nsample = 1\\nRandomSample = random.sample(ListOfNodes, sample)\\nprint(ListOfNodes)\\ng.remove_nodes_from(RandomSample)\\n \\n'"
      ]
     },
     "execution_count": 21,
     "metadata": {},
     "output_type": "execute_result"
    }
   ],
   "source": [
    "'''\n",
    "funcion_remove_random(red,umbral):\n",
    "    #umbral = hasta donde llega el eje x\n",
    "    copia_red\n",
    "    inicilizar vectores para el grafico\n",
    "    porcentaje = 0\n",
    "    cantidad_maxima_nodos_removidos = umbral*cantidad_nodos\n",
    "    for i=0:cantidad_maxima_nodos_removidos\n",
    "        eje_x=[i/cantidad_nodos]\n",
    "        copia_red = le quitamos un nodo al azar\n",
    "        calculo = calcula_tamaño_comp_gigante(copia_red)/tamaño_componente_gigante_original\n",
    "        \n",
    "        eje_y+=[calculo]\n",
    "    return(eje_x,eje_y)    \n",
    "    \n",
    "ListOfNodes = g.nodes()\n",
    "NumberofNodes = g.number_of_nodes()\n",
    "sample = 1\n",
    "RandomSample = random.sample(ListOfNodes, sample)\n",
    "print(ListOfNodes)\n",
    "g.remove_nodes_from(RandomSample)\n",
    " \n",
    "'''"
   ]
  },
  {
   "cell_type": "code",
   "execution_count": 74,
   "metadata": {},
   "outputs": [],
   "source": [
    "def funcion_remove_random(red,umbral):\n",
    "    copia_red = red.copy()\n",
    "    size_giant_original = len(max(nx.connected_components(red),key=len))\n",
    "    eje_x = []\n",
    "    eje_y = []\n",
    "    cantidad_nodos = copia_red.number_of_nodes()\n",
    "    cantidad_maxima_nodos_removidos = int(umbral*red.number_of_nodes())\n",
    "    for i in range(0,cantidad_maxima_nodos_removidos):\n",
    "        ListOfNodes = copia_red.nodes()\n",
    "        RandomSample = random.sample(ListOfNodes, 1)\n",
    "        copia_red.remove_nodes_from(RandomSample)\n",
    "        eje_x+=[i/float(cantidad_nodos)]\n",
    "        cantidad_nodos_copia = copia_red.number_of_nodes()\n",
    "        size_giant_copia = len(max(nx.connected_components(copia_red),key=len))\n",
    "        calculo = size_giant_copia/float(cantidad_nodos_copia)    \n",
    "        ## Hay que normalizarlo por la la fraccion original \n",
    "        eje_y+=[calculo]\n",
    "    return(eje_x,eje_y)"
   ]
  },
  {
   "cell_type": "code",
   "execution_count": 75,
   "metadata": {},
   "outputs": [],
   "source": [
    "resultado = funcion_remove_random(G_APMS,0.35)"
   ]
  },
  {
   "cell_type": "code",
   "execution_count": 76,
   "metadata": {},
   "outputs": [
    {
     "data": {
      "image/png": "[encoded data removed]",
      "text/plain": [
       "<Figure size 504x311.489 with 1 Axes>"
      ]
     },
     "metadata": {},
     "output_type": "display_data"
    }
   ],
   "source": [
    "plt.plot(resultado[0],resultado[1],'-r',label='APMS')\n",
    "pylab.xlabel('fraction of nodes')\n",
    "pylab.ylabel('largest connected component')\n",
    "plt.grid(color='gray', linestyle='--')\n",
    "pylab.ylim(0, 1)\n",
    "pylab.xlim(0, 0.35)\n",
    "plt.legend()\n",
    "plt.show()"
   ]
  },
  {
   "cell_type": "code",
   "execution_count": 67,
   "metadata": {},
   "outputs": [
    {
     "ename": "AttributeError",
     "evalue": "'generator' object has no attribute 'is_directed'",
     "output_type": "error",
     "traceback": [
      "\u001b[0;31m---------------------------------------------------------------------------\u001b[0m",
      "\u001b[0;31mAttributeError\u001b[0m                            Traceback (most recent call last)",
      "\u001b[0;32m<ipython-input-67-df5b93065283>\u001b[0m in \u001b[0;36m<module>\u001b[0;34m()\u001b[0m\n\u001b[1;32m      1\u001b[0m \u001b[0;34m\u001b[0m\u001b[0m\n\u001b[0;32m----> 2\u001b[0;31m \u001b[0mnx\u001b[0m\u001b[0;34m.\u001b[0m\u001b[0mcurrent_flow_closeness_centrality\u001b[0m\u001b[0;34m(\u001b[0m\u001b[0mnx\u001b[0m\u001b[0;34m.\u001b[0m\u001b[0mconnected_components\u001b[0m\u001b[0;34m(\u001b[0m\u001b[0mG_APMS\u001b[0m\u001b[0;34m)\u001b[0m\u001b[0;34m,\u001b[0m \u001b[0mweight\u001b[0m\u001b[0;34m=\u001b[0m\u001b[0;34m'weight'\u001b[0m\u001b[0;34m,\u001b[0m \u001b[0mdtype\u001b[0m\u001b[0;34m=\u001b[0m\u001b[0;34m'float'\u001b[0m\u001b[0;34m,\u001b[0m \u001b[0msolver\u001b[0m\u001b[0;34m=\u001b[0m\u001b[0;34m'lu'\u001b[0m\u001b[0;34m)\u001b[0m\u001b[0;34m\u001b[0m\u001b[0m\n\u001b[0m",
      "\u001b[0;32m<decorator-gen-182>\u001b[0m in \u001b[0;36mcurrent_flow_closeness_centrality\u001b[0;34m(G, weight, dtype, solver)\u001b[0m\n",
      "\u001b[0;32m/home/sticco/anaconda2/lib/python2.7/site-packages/networkx/utils/decorators.pyc\u001b[0m in \u001b[0;36m_not_implemented_for\u001b[0;34m(not_implement_for_func, *args, **kwargs)\u001b[0m\n\u001b[1;32m     56\u001b[0m     \u001b[0;32mdef\u001b[0m \u001b[0m_not_implemented_for\u001b[0m\u001b[0;34m(\u001b[0m\u001b[0mnot_implement_for_func\u001b[0m\u001b[0;34m,\u001b[0m \u001b[0;34m*\u001b[0m\u001b[0margs\u001b[0m\u001b[0;34m,\u001b[0m \u001b[0;34m**\u001b[0m\u001b[0mkwargs\u001b[0m\u001b[0;34m)\u001b[0m\u001b[0;34m:\u001b[0m\u001b[0;34m\u001b[0m\u001b[0m\n\u001b[1;32m     57\u001b[0m         \u001b[0mgraph\u001b[0m \u001b[0;34m=\u001b[0m \u001b[0margs\u001b[0m\u001b[0;34m[\u001b[0m\u001b[0;36m0\u001b[0m\u001b[0;34m]\u001b[0m\u001b[0;34m\u001b[0m\u001b[0m\n\u001b[0;32m---> 58\u001b[0;31m         terms = {'directed': graph.is_directed(),\n\u001b[0m\u001b[1;32m     59\u001b[0m                  \u001b[0;34m'undirected'\u001b[0m\u001b[0;34m:\u001b[0m \u001b[0;32mnot\u001b[0m \u001b[0mgraph\u001b[0m\u001b[0;34m.\u001b[0m\u001b[0mis_directed\u001b[0m\u001b[0;34m(\u001b[0m\u001b[0;34m)\u001b[0m\u001b[0;34m,\u001b[0m\u001b[0;34m\u001b[0m\u001b[0m\n\u001b[1;32m     60\u001b[0m                  \u001b[0;34m'multigraph'\u001b[0m\u001b[0;34m:\u001b[0m \u001b[0mgraph\u001b[0m\u001b[0;34m.\u001b[0m\u001b[0mis_multigraph\u001b[0m\u001b[0;34m(\u001b[0m\u001b[0;34m)\u001b[0m\u001b[0;34m,\u001b[0m\u001b[0;34m\u001b[0m\u001b[0m\n",
      "\u001b[0;31mAttributeError\u001b[0m: 'generator' object has no attribute 'is_directed'"
     ]
    }
   ],
   "source": [
    "nx.current_flow_closeness_centrality(nx.connected_components(G_APMS), weight='weight', dtype='float', solver='lu')"
   ]
  },
  {
   "cell_type": "code",
   "execution_count": null,
   "metadata": {},
   "outputs": [],
   "source": []
  }
 ],
 "metadata": {
  "kernelspec": {
   "display_name": "Python 2",
   "language": "python",
   "name": "python2"
  },
  "language_info": {
   "codemirror_mode": {
    "name": "ipython",
    "version": 2
   },
   "file_extension": ".py",
   "mimetype": "text/x-python",
   "name": "python",
   "nbconvert_exporter": "python",
   "pygments_lexer": "ipython2",
   "version": "2.7.15"
  }
 },
 "nbformat": 4,
 "nbformat_minor": 2
}
