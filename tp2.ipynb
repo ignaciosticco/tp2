{
 "cells": [
  {
   "cell_type": "markdown",
   "metadata": {},
   "source": [
    "# Trabajo Practico 2 - Sistemas Complejos"
   ]
  },
  {
   "cell_type": "code",
   "execution_count": 47,
   "metadata": {},
   "outputs": [],
   "source": [
    "import networkx as nx\n",
    "import numpy as np\n",
    "import matplotlib.pyplot as plt\n",
    "import pylab\n",
    "import math\n",
    "import pandas as pd\n",
    "from io import StringIO\n",
    "import random\n",
    "import scipy\n",
    "import operator"
   ]
  },
  {
   "cell_type": "code",
   "execution_count": 48,
   "metadata": {},
   "outputs": [],
   "source": [
    "golden_mean = (math.sqrt(5)-1.0)/2.0       # Aesthetic ratio\n",
    "fig_width = 7+3/8                          # width  in inches\n",
    "fig_height = fig_width*golden_mean         # height in inches\n",
    "fig_size =  [fig_width,fig_height]\n",
    "\n",
    "params = {'backend': 'ps',\n",
    "          'axes.titlesize': 18,\n",
    "          'axes.labelsize': 19,\n",
    "          'axes.linewidth': 0.7, \n",
    "          'axes.grid': False,\n",
    "          'axes.labelweight': 'normal',  \n",
    "          'font.family': 'serif',\n",
    "          'font.size': 18.0,\n",
    "          'font.weight': 'normal',\n",
    "          'text.color': 'black',\n",
    "          'xtick.labelsize': 18,\n",
    "          'ytick.labelsize': 18,\n",
    "          'text.usetex': True,\n",
    "          'legend.fontsize': 16,\n",
    "          'figure.dpi': 700,\n",
    "          'figure.figsize': fig_size,\n",
    "          'savefig.dpi': 700,\n",
    "         }\n",
    "\n",
    "pylab.rcParams.update(params)"
   ]
  },
  {
   "cell_type": "markdown",
   "metadata": {},
   "source": [
    "Importacion de redes "
   ]
  },
  {
   "cell_type": "code",
   "execution_count": 49,
   "metadata": {},
   "outputs": [],
   "source": [
    "G_APMS = nx.read_edgelist('yeast_AP-MS.txt')\n",
    "G_Y2H = nx.read_edgelist('yeast_Y2H.txt')\n",
    "G_LIT = nx.read_edgelist('yeast_LIT.txt')\n",
    "\n",
    "G_LIT_Reguly = nx.Graph()\n",
    "data_lit_reguly = np.genfromtxt(\"yeast_LIT_Reguly.txt\",dtype='unicode',delimiter = '\\t')\n",
    "yeast_LIT_Reguly_raw = [data_lit_reguly[1:,0],data_lit_reguly[1:,1]]\n",
    "\n",
    "i=1\n",
    "while i<len(data_lit_reguly[1:,0]):\n",
    "    G_LIT_Reguly.add_edge(data_lit_reguly[i,0],data_lit_reguly[i,1])\n",
    "    i+=1"
   ]
  },
  {
   "cell_type": "markdown",
   "metadata": {},
   "source": [
    "Cargamos el archivo que contiene la esencialidad de los nodos"
   ]
  },
  {
   "cell_type": "code",
   "execution_count": 50,
   "metadata": {},
   "outputs": [],
   "source": [
    "G_ESSENTIAL = nx.Graph()\n",
    "data_G_ESSENTIAL = np.genfromtxt(\"Essential_ORFs_paperHe.txt\",dtype='unicode',delimiter = '\\t')\n",
    "yeast_G_ESSENTIAL_raw = [data_G_ESSENTIAL[2:,1]]\n",
    "\n",
    "i = 0\n",
    "l = len(yeast_G_ESSENTIAL_raw[0][:])\n",
    "\n",
    "while i < l:\n",
    "    proteina = yeast_G_ESSENTIAL_raw[0][i]\n",
    "    yeast_G_ESSENTIAL_raw[0][i] = proteina.rstrip(\" \")\n",
    "    i+=1"
   ]
  },
  {
   "cell_type": "markdown",
   "metadata": {},
   "source": [
    "Caracteristicas basicas de la red"
   ]
  },
  {
   "cell_type": "code",
   "execution_count": 51,
   "metadata": {},
   "outputs": [],
   "source": [
    "def caracteristicas_basicas(G):\n",
    "    numero_nodos = G.number_of_nodes()\n",
    "    numero_enlaces = G.number_of_edges()\n",
    "    grado_medio = np.round(np.true_divide(numero_enlaces,numero_nodos),2)\n",
    "    average_clustering_coeficient = round(nx.average_clustering(G),2)\n",
    "    resultado=[numero_nodos,numero_enlaces,grado_medio,average_clustering_coeficient]\n",
    "    return resultado\n"
   ]
  },
  {
   "cell_type": "markdown",
   "metadata": {},
   "source": [
    "Procesamiento de caracteristicas basicas de todas las redes"
   ]
  },
  {
   "cell_type": "code",
   "execution_count": 52,
   "metadata": {},
   "outputs": [],
   "source": [
    "resultado_apms = caracteristicas_basicas(G_APMS)\n",
    "resultado_y2h = caracteristicas_basicas(G_Y2H)\n",
    "resultado_lit = caracteristicas_basicas(G_LIT)\n",
    "resultado_lit_reguly = caracteristicas_basicas(G_LIT_Reguly)"
   ]
  },
  {
   "cell_type": "code",
   "execution_count": 53,
   "metadata": {},
   "outputs": [
    {
     "data": {
      "text/html": [
       "<div>\n",
       "<style scoped>\n",
       "    .dataframe tbody tr th:only-of-type {\n",
       "        vertical-align: middle;\n",
       "    }\n",
       "\n",
       "    .dataframe tbody tr th {\n",
       "        vertical-align: top;\n",
       "    }\n",
       "\n",
       "    .dataframe thead th {\n",
       "        text-align: right;\n",
       "    }\n",
       "</style>\n",
       "<table border=\"1\" class=\"dataframe\">\n",
       "  <thead>\n",
       "    <tr style=\"text-align: right;\">\n",
       "      <th></th>\n",
       "      <th></th>\n",
       "      <th>Average clustering coefficient</th>\n",
       "      <th>Average degree</th>\n",
       "      <th>Number of Edges</th>\n",
       "      <th>Number of Nodes</th>\n",
       "    </tr>\n",
       "  </thead>\n",
       "  <tbody>\n",
       "    <tr>\n",
       "      <th>0</th>\n",
       "      <td>AP/MS</td>\n",
       "      <td>0.55</td>\n",
       "      <td>5.59</td>\n",
       "      <td>9070</td>\n",
       "      <td>1622</td>\n",
       "    </tr>\n",
       "    <tr>\n",
       "      <th>1</th>\n",
       "      <td>Y2H</td>\n",
       "      <td>0.05</td>\n",
       "      <td>1.45</td>\n",
       "      <td>2930</td>\n",
       "      <td>2018</td>\n",
       "    </tr>\n",
       "    <tr>\n",
       "      <th>2</th>\n",
       "      <td>LIT</td>\n",
       "      <td>0.29</td>\n",
       "      <td>1.90</td>\n",
       "      <td>2925</td>\n",
       "      <td>1536</td>\n",
       "    </tr>\n",
       "    <tr>\n",
       "      <th>3</th>\n",
       "      <td>LIT-Reguly</td>\n",
       "      <td>0.26</td>\n",
       "      <td>3.59</td>\n",
       "      <td>11857</td>\n",
       "      <td>3307</td>\n",
       "    </tr>\n",
       "  </tbody>\n",
       "</table>\n",
       "</div>"
      ],
      "text/plain": [
       "               Average clustering coefficient  Average degree  \\\n",
       "0       AP/MS                            0.55            5.59   \n",
       "1         Y2H                            0.05            1.45   \n",
       "2         LIT                            0.29            1.90   \n",
       "3  LIT-Reguly                            0.26            3.59   \n",
       "\n",
       "   Number of Edges  Number of Nodes  \n",
       "0             9070             1622  \n",
       "1             2930             2018  \n",
       "2             2925             1536  \n",
       "3            11857             3307  "
      ]
     },
     "execution_count": 53,
     "metadata": {},
     "output_type": "execute_result"
    }
   ],
   "source": [
    "data = pd.DataFrame({\" \":[\"AP/MS\",'Y2H','LIT','LIT-Reguly'],\n",
    "                     \"Number of Nodes\":[resultado_apms[0],resultado_y2h[0],resultado_lit[0],resultado_lit_reguly[0]],\n",
    "                     \"Number of Edges\":[resultado_apms[1],resultado_y2h[1],resultado_lit[1],resultado_lit_reguly[1]],\n",
    "                     \"Average degree\":[resultado_apms[2],resultado_y2h[2],resultado_lit[2],resultado_lit_reguly[2]],\n",
    "                     \"Average clustering coefficient\":[resultado_apms[3],resultado_y2h[3],resultado_lit[3],resultado_lit_reguly[3]]\n",
    "                    })\n",
    "data\n",
    "\n"
   ]
  },
  {
   "cell_type": "markdown",
   "metadata": {},
   "source": [
    "Superposición de dos redes\n",
    "\n",
    "La siguiente función remueve los nodos de la primera red que no estan en la segunda red. "
   ]
  },
  {
   "cell_type": "code",
   "execution_count": 54,
   "metadata": {},
   "outputs": [],
   "source": [
    "def intersection(red1,red2):\n",
    "    red_interseccion = nx.intersection(red1,red2)\n",
    "    \n",
    "    resultado = red_interseccion.number_of_edges()\n",
    "    return resultado\n"
   ]
  },
  {
   "cell_type": "code",
   "execution_count": 55,
   "metadata": {},
   "outputs": [],
   "source": [
    "def superposicion(red1,red2):\n",
    "    copia_red1=red1.copy()\n",
    "    copia_red2=red2.copy()\n",
    "    \n",
    "    copia_red1.remove_nodes_from(n for n in red1 if n not in red2)\n",
    "    copia_red2.remove_nodes_from(n for n in red2 if n not in red1)\n",
    "    \n",
    "    superposicion = intersection(copia_red1,copia_red2)\n",
    "    return superposicion \n"
   ]
  },
  {
   "cell_type": "code",
   "execution_count": 56,
   "metadata": {},
   "outputs": [],
   "source": [
    "def superposicion_redes(redes):\n",
    "    i = 0\n",
    "    l = len(redes)\n",
    "    matriz_superposicion = np.zeros((l,l))\n",
    "    while i < l:\n",
    "        red_i = redes[i]\n",
    "        j = i+1\n",
    "        while j < l:\n",
    "            red_j = redes[j]\n",
    "            valor = superposicion(red_i,red_j)\n",
    "            matriz_superposicion[i][j] = valor / (float(red_i.number_of_edges()))\n",
    "            matriz_superposicion[j][i] = valor / (float(red_j.number_of_edges()))\n",
    "            j+=1\n",
    "        i+=1\n",
    "        #matriz_superposicion[0][0] = APMS\n",
    "        #matriz_superposicion[1][1] = Y2H\n",
    "        #matriz_superposicion[2][2] = G_LIT\n",
    "        #matriz_superposicion[3][3] = G_LIT_Reguly\n",
    "    return matriz_superposicion"
   ]
  },
  {
   "cell_type": "code",
   "execution_count": 57,
   "metadata": {},
   "outputs": [
    {
     "data": {
      "text/plain": [
       "array([[0.        , 0.02866593, 0.14310915, 0.27783903],\n",
       "       [0.0887372 , 0.        , 0.0887372 , 0.16348123],\n",
       "       [0.44376068, 0.08888889, 0.        , 0.97777778],\n",
       "       [0.21253268, 0.04039808, 0.24120773, 0.        ]])"
      ]
     },
     "execution_count": 57,
     "metadata": {},
     "output_type": "execute_result"
    }
   ],
   "source": [
    "redes = [G_APMS,G_Y2H,G_LIT,G_LIT_Reguly]\n",
    "superposicion_redes(redes)"
   ]
  },
  {
   "cell_type": "markdown",
   "metadata": {},
   "source": [
    "Creamos una función que agrega el atributo \"esencialidad\" al grafo G"
   ]
  },
  {
   "cell_type": "code",
   "execution_count": 58,
   "metadata": {},
   "outputs": [],
   "source": [
    "def agrega_esencialidad(red,lista_esencial):\n",
    "    \n",
    "    j = 0\n",
    "    l = len(red)\n",
    "    while j < l:\n",
    "        nombre = list(red)[j]\n",
    "        red.node[nombre]['esencialidad']=0\n",
    "        j += 1\n",
    "    \n",
    "    for i in lista_esencial[0]:\n",
    "        if (i in red):\n",
    "            red.node[i]['esencialidad']=1\n",
    "    return\n"
   ]
  },
  {
   "cell_type": "markdown",
   "metadata": {},
   "source": [
    "Le agregamos la esencialidad a cada nodo de cada una de las red"
   ]
  },
  {
   "cell_type": "code",
   "execution_count": 59,
   "metadata": {},
   "outputs": [],
   "source": [
    "agrega_esencialidad(G_APMS,yeast_G_ESSENTIAL_raw)\n",
    "agrega_esencialidad(G_Y2H,yeast_G_ESSENTIAL_raw)\n",
    "agrega_esencialidad(G_LIT,yeast_G_ESSENTIAL_raw)\n",
    "agrega_esencialidad(G_LIT_Reguly,yeast_G_ESSENTIAL_raw)"
   ]
  },
  {
   "cell_type": "markdown",
   "metadata": {},
   "source": [
    "Analisis de hubs\n",
    "\n",
    "En primer lugar calculamos la distribución de grado"
   ]
  },
  {
   "cell_type": "code",
   "execution_count": 60,
   "metadata": {},
   "outputs": [],
   "source": [
    "def maximo_grado(red):\n",
    "    cantidad_nodos = red.number_of_nodes()\n",
    "    maximo = 0\n",
    "    i=0\n",
    "    while i<cantidad_nodos:\n",
    "        if list(red.degree)[i][1]>maximo:\n",
    "            maximo = list(red.degree)[i][1]\n",
    "        i+=1\n",
    "    return maximo"
   ]
  },
  {
   "cell_type": "code",
   "execution_count": 61,
   "metadata": {},
   "outputs": [],
   "source": [
    "def distribucion_grado(red):\n",
    "    numero_nodos = red.number_of_nodes()\n",
    "    l = len(red)\n",
    "    m = maximo_grado(red)\n",
    "    vector_nodos_esenciales= np.zeros(m+1)\n",
    "    vector_grados= np.zeros(m+1)\n",
    "    i = 0\n",
    "    while i < l:\n",
    "        grado = list(red.degree)[i][1]\n",
    "        vector_grados[grado] += 1\n",
    "        \n",
    "        nombre = list(red)[i]\n",
    "        esencialidad_nodo = red.node[nombre]['esencialidad']\n",
    "        \n",
    "        if (esencialidad_nodo==1):\n",
    "            vector_nodos_esenciales[grado] += 1\n",
    "        i+=1\n",
    "    return (vector_grados,vector_nodos_esenciales)                        \n",
    "    \n"
   ]
  },
  {
   "cell_type": "code",
   "execution_count": 62,
   "metadata": {},
   "outputs": [],
   "source": [
    "hubs_APMS = distribucion_grado(G_APMS)\n",
    "hubs_Y2H = distribucion_grado(G_Y2H)\n",
    "hubs_LIT = distribucion_grado(G_LIT)\n",
    "hubs_LIT_Reguly = distribucion_grado(G_LIT_Reguly)"
   ]
  },
  {
   "cell_type": "code",
   "execution_count": 63,
   "metadata": {},
   "outputs": [],
   "source": [
    "def hub_definition(hubs):\n",
    "    vector_grados = hubs[0]\n",
    "    vector_esencial = hubs[1]\n",
    "    i = 1\n",
    "    l = len(vector_grados)\n",
    "    eje_x= np.zeros(l)\n",
    "    eje_y= np.zeros(l)\n",
    "    total_nodos = np.sum(vector_grados)\n",
    "    while (i < l+1):\n",
    "        eje_x[i-1]=np.sum(vector_grados[l-i:l])/(float(total_nodos))\n",
    "        eje_y[i-1]=np.sum(vector_esencial[l-i:l])/np.sum(vector_grados[l-i:l])\n",
    "        i+=1\n",
    "        \n",
    "    return(eje_x,eje_y)      "
   ]
  },
  {
   "cell_type": "code",
   "execution_count": 64,
   "metadata": {},
   "outputs": [],
   "source": [
    "eje_x_APMS = hub_definition(hubs_APMS)[0][:]\n",
    "eje_y_APMS = hub_definition(hubs_APMS)[1][:]\n",
    "\n",
    "eje_x_Y2H = hub_definition(hubs_Y2H)[0][:]\n",
    "eje_y_Y2H = hub_definition(hubs_Y2H)[1][:]\n",
    "\n",
    "eje_x_LIT = hub_definition(hubs_LIT)[0][:]\n",
    "eje_y_LIT = hub_definition(hubs_LIT)[1][:]\n",
    "\n",
    "eje_x_LIT_Reguly = hub_definition(hubs_LIT_Reguly)[0][:]\n",
    "eje_y_LIT_Reguly = hub_definition(hubs_LIT_Reguly)[1][:]"
   ]
  },
  {
   "cell_type": "code",
   "execution_count": 65,
   "metadata": {},
   "outputs": [
    {
     "data": {
      "image/png": "[encoded data removed]",
      "text/plain": [
       "<Figure size 504x311.489 with 1 Axes>"
      ]
     },
     "metadata": {},
     "output_type": "display_data"
    }
   ],
   "source": [
    "plt.plot(eje_x_APMS,eje_y_APMS,'-r',label='APMS')\n",
    "plt.plot(eje_x_Y2H,eje_y_Y2H,'-k',label='Y2H')\n",
    "plt.plot(eje_x_LIT,eje_y_LIT,'-b',label='LIT')\n",
    "plt.plot(eje_x_LIT_Reguly,eje_y_LIT_Reguly,'-g',label='LIT Reguly')\n",
    "pylab.xlabel('hub definition cutoff')\n",
    "pylab.ylabel('fraction of ess. nodes')\n",
    "plt.grid(color='gray', linestyle='--')\n",
    "pylab.ylim(0, 1)\n",
    "pylab.xlim(0, 1)\n",
    "plt.legend()\n",
    "plt.show()"
   ]
  },
  {
   "cell_type": "code",
   "execution_count": 66,
   "metadata": {},
   "outputs": [],
   "source": [
    "def funcion_remove_random(red,umbral):\n",
    "    copia_red = red.copy()\n",
    "    size_giant_original = len(max(nx.connected_components(red),key=len))\n",
    "    eje_x = []\n",
    "    eje_y = []\n",
    "    cantidad_nodos = copia_red.number_of_nodes()\n",
    "    cantidad_maxima_nodos_removidos = int(umbral*red.number_of_nodes())\n",
    "    for i in range(0,cantidad_maxima_nodos_removidos):\n",
    "        ListOfNodes = copia_red.nodes()\n",
    "        RandomSample = random.sample(ListOfNodes, 1)\n",
    "        copia_red.remove_nodes_from(RandomSample)\n",
    "        eje_x+=[i/float(cantidad_nodos)]\n",
    "        cantidad_nodos_copia = copia_red.number_of_nodes()\n",
    "        size_giant_copia = len(max(nx.connected_components(copia_red),key=len))\n",
    "        calculo = size_giant_copia/float(size_giant_original)    \n",
    "        eje_y+=[calculo]\n",
    "    return(eje_x,eje_y)"
   ]
  },
  {
   "cell_type": "code",
   "execution_count": 67,
   "metadata": {},
   "outputs": [],
   "source": [
    "resultado = funcion_remove_random(G_APMS,0.35)"
   ]
  },
  {
   "cell_type": "code",
   "execution_count": 68,
   "metadata": {},
   "outputs": [
    {
     "data": {
      "image/png": "[encoded data removed]",
      "text/plain": [
       "<Figure size 504x311.489 with 1 Axes>"
      ]
     },
     "metadata": {},
     "output_type": "display_data"
    }
   ],
   "source": [
    "plt.plot(resultado[0],resultado[1],'-r',label='APMS')\n",
    "pylab.xlabel('fraction of nodes')\n",
    "pylab.ylabel('largest connected component')\n",
    "plt.grid(color='gray', linestyle='--')\n",
    "pylab.ylim(0, 1)\n",
    "pylab.xlim(0, 0.35)\n",
    "plt.legend()\n",
    "plt.show()"
   ]
  },
  {
   "cell_type": "code",
   "execution_count": 82,
   "metadata": {},
   "outputs": [],
   "source": [
    "### Remueve los nodos que tienen mayor centralidad segun Current Flow Betweeness centrality\n",
    "### Lo hace solo para la componente gigante (no se considera el resto de los subgrafos)\n",
    "def funcion_remove_cf3(red,umbral):\n",
    "    %time\n",
    "    copia_red = red.copy()\n",
    "    size_giant_original = len(max(nx.connected_components(red),key=len))\n",
    "    eje_x = []\n",
    "    eje_y = []\n",
    "    cantidad_nodos = red.number_of_nodes()\n",
    "    porcentaje = 0\n",
    "    paso = 2\n",
    "    ## Creamos un diccionario con los nodos y su respectivo flujo\n",
    "    Gc =  max(nx.connected_component_subgraphs(copia_red), key=len)\n",
    "    dict_component = nx.current_flow_betweenness_centrality(Gc, weight='weight', dtype='float', solver='lu')\n",
    "    ## Ordenamos el diccionario de menor a mayor\n",
    "    sorted_x = sorted(dict_component.items(), key=operator.itemgetter(1),reverse=True)\n",
    "    sorted_array = np.array(list(sorted_x))  \n",
    "    while (porcentaje<=umbral):\n",
    "        copia_red = red.copy()\n",
    "        # Removemos los n nodos de centralidad mas alta\n",
    "        n = int(porcentaje*cantidad_nodos/100.0)\n",
    "        for i in range(0,n):\n",
    "            nombre = sorted_array[i][0]\n",
    "            copia_red.remove_node(nombre)\n",
    "        # Calculamos el tamano de la componente gigante (luego de remover nodos)\n",
    "        size_giant_copia = len(max(nx.connected_components(copia_red),key=len))\n",
    "        calculo = size_giant_copia/float(size_giant_original)    \n",
    "        eje_y+=[calculo]\n",
    "        eje_x+=[porcentaje/100.0]        \n",
    "        porcentaje+=paso\n",
    "    return(eje_x,eje_y)"
   ]
  },
  {
   "cell_type": "code",
   "execution_count": 89,
   "metadata": {},
   "outputs": [
    {
     "name": "stdout",
     "output_type": "stream",
     "text": [
      "CPU times: user 0 ns, sys: 0 ns, total: 0 ns\n",
      "Wall time: 6.91 µs\n"
     ]
    }
   ],
   "source": [
    "resultado_current_flow_APMS = funcion_remove_cf3(G_APMS,35)"
   ]
  },
  {
   "cell_type": "code",
   "execution_count": 90,
   "metadata": {},
   "outputs": [
    {
     "data": {
      "image/png": "[encoded data removed]",
      "text/plain": [
       "<Figure size 504x311.489 with 1 Axes>"
      ]
     },
     "metadata": {},
     "output_type": "display_data"
    }
   ],
   "source": [
    "plt.plot(resultado_current_flow_APMS[0],resultado_current_flow_APMS[1],'-r',label='APMS')\n",
    "pylab.xlabel('fraction of nodes')\n",
    "pylab.ylabel('largest connected component')\n",
    "plt.grid(color='gray', linestyle='--')\n",
    "pylab.ylim(0, 1)\n",
    "pylab.xlim(0, 0.35)\n",
    "plt.legend()\n",
    "plt.show()"
   ]
  },
  {
   "cell_type": "code",
   "execution_count": 93,
   "metadata": {},
   "outputs": [],
   "source": [
    "### Remueve los nodos que tienen mayor centralidad segun Shortest path (betweenness_centrality)\n",
    "### Lo hace solo para la componente gigante (no se considera el resto de los subgrafos)\n",
    "def funcion_remove_sp(red,umbral):\n",
    "    copia_red = red.copy()\n",
    "    size_giant_original = len(max(nx.connected_components(red),key=len))\n",
    "    eje_x = []\n",
    "    eje_y = []\n",
    "    cantidad_nodos = red.number_of_nodes()\n",
    "    porcentaje = 0\n",
    "    paso = 2\n",
    "    ## Creamos un diccionario con los nodos y su respectivo shortest path\n",
    "    Gc =  max(nx.connected_component_subgraphs(copia_red), key=len)\n",
    "    dict_component = nx.betweenness_centrality(Gc)\n",
    "    ## Ordenamos el diccionario de menor a mayor\n",
    "    sorted_x = sorted(dict_component.items(), key=operator.itemgetter(1),reverse=True)\n",
    "    sorted_array = np.array(list(sorted_x))  \n",
    "    while (porcentaje<=umbral):\n",
    "        copia_red = red.copy()\n",
    "        # Removemos los n nodos de centralidad mas alta\n",
    "        n = int(porcentaje*cantidad_nodos/100.0)\n",
    "        for i in range(0,n):\n",
    "            nombre = sorted_array[i][0]\n",
    "            copia_red.remove_node(nombre)\n",
    "        # Calculamos el tamano de la componente gigante (luego de remover nodos)\n",
    "        size_giant_copia = len(max(nx.connected_components(copia_red),key=len))\n",
    "        calculo = size_giant_copia/float(size_giant_original)    \n",
    "        eje_y+=[calculo]\n",
    "        eje_x+=[porcentaje/100.0]        \n",
    "        porcentaje+=paso\n",
    "    return(eje_x,eje_y)"
   ]
  },
  {
   "cell_type": "code",
   "execution_count": 94,
   "metadata": {},
   "outputs": [
    {
     "name": "stdout",
     "output_type": "stream",
     "text": [
      "CPU times: user 0 ns, sys: 0 ns, total: 0 ns\n",
      "Wall time: 4.05 µs\n"
     ]
    }
   ],
   "source": [
    "resultado_shortest_path_APMS = funcion_remove_sp(G_APMS,35)"
   ]
  },
  {
   "cell_type": "code",
   "execution_count": 97,
   "metadata": {},
   "outputs": [
    {
     "data": {
      "image/png": "[encoded data removed]",
      "text/plain": [
       "<Figure size 504x311.489 with 1 Axes>"
      ]
     },
     "metadata": {},
     "output_type": "display_data"
    }
   ],
   "source": [
    "plt.plot(resultado[0],resultado[1],'-k',label='random')\n",
    "plt.plot(resultado_shortest_path_APMS[0],resultado_shortest_path_APMS[1],'-r',label='shortest-path')\n",
    "plt.plot(resultado_current_flow_APMS[0],resultado_current_flow_APMS[1],'-b',label='current flow')\n",
    "pylab.xlabel('fraction of nodes')\n",
    "pylab.ylabel('largest connected component')\n",
    "plt.grid(color='gray', linestyle='--')\n",
    "pylab.ylim(0, 1)\n",
    "pylab.xlim(0, 0.35)\n",
    "plt.legend()\n",
    "plt.show()"
   ]
  },
  {
   "cell_type": "markdown",
   "metadata": {},
   "source": [
    "Pruebas de centralidad con todas las componentes (no unicamente la componente gigante)"
   ]
  },
  {
   "cell_type": "code",
   "execution_count": 149,
   "metadata": {},
   "outputs": [],
   "source": [
    "### Remueve los nodos que tienen mayor centralidad segun Current Flow Betweeness centrality\n",
    "### Lo hace para todas las componentes de la red. \n",
    "\n",
    "def funcion_remove_cf2(red,umbral):\n",
    "    %time\n",
    "    size_giant_original = len(max(nx.connected_components(red),key=len))\n",
    "    eje_x = []\n",
    "    eje_y = []\n",
    "    cantidad_nodos = red.number_of_nodes()\n",
    "    porcentaje = 0\n",
    "    paso = 2\n",
    "    ## Creamos un diccionario con los nodos y su respectiva centralidad de flujo\n",
    "    dict_all = dict()\n",
    "    for component in nx.connected_component_subgraphs(red):\n",
    "        if component.number_of_nodes()>1:\n",
    "            dict_component = nx.current_flow_betweenness_centrality(component, normalized = False,weight='weight', dtype='float', solver='lu')\n",
    "           # print(dict_component)\n",
    "            dict_all.update(dict_component)\n",
    "    ## Ordenamos el diccionario de menor a mayor\n",
    "    sorted_x = sorted(dict_all.items(), key=operator.itemgetter(1),reverse=True)\n",
    "    sorted_array = np.array(list(sorted_x)) \n",
    "    #print(\"Sorted array:\",sorted_array)\n",
    "    while (porcentaje<=umbral):\n",
    "        copia_red = red.copy()\n",
    "        # Removemos los n nodos de centralidad mas alta\n",
    "        n = int(porcentaje*cantidad_nodos/100.0)\n",
    "        for i in range(0,n):\n",
    "            nombre = sorted_array[i][0]\n",
    "            copia_red.remove_node(nombre)\n",
    "            #sorted_x = [i for i in sorted_x if i[0] != max(sorted_x)[0]]\n",
    "        # Calculamos el tamano de la componente gigante (luego de remover nodos)\n",
    "        size_giant_copia = len(max(nx.connected_components(copia_red),key=len))\n",
    "        calculo = size_giant_copia/float(size_giant_original)    \n",
    "        eje_y+=[calculo]\n",
    "        eje_x+=[porcentaje/100.0]        \n",
    "        porcentaje+=paso\n",
    "    return(eje_x,eje_y)"
   ]
  },
  {
   "cell_type": "code",
   "execution_count": 182,
   "metadata": {},
   "outputs": [],
   "source": [
    "### Remueve los nodos que tienen mayor centralidad segun Shortest path (betweenness_centrality)\n",
    "### Lo hace para todas las componentes de la red. \n",
    "\n",
    "def funcion_remove_sp2(red,umbral):\n",
    "    copia_red = red.copy()\n",
    "    size_giant_original = len(max(nx.connected_components(red),key=len))\n",
    "    eje_x = []\n",
    "    eje_y = []\n",
    "    cantidad_nodos = red.number_of_nodes()\n",
    "    porcentaje = 0\n",
    "    paso = 2\n",
    "    ## Creamos un diccionario con los nodos y su respectiva centralidad de flujo\n",
    "    dict_all = dict()\n",
    "    for component in nx.connected_component_subgraphs(red):\n",
    "        if component.number_of_nodes()>1:\n",
    "            #dict_component = nx.current_flow_betweenness_centrality(component, normalized = False,weight='weight', dtype='float', solver='lu')\n",
    "            dict_component = nx.betweenness_centrality(component, normalized = False)\n",
    "            dict_all.update(dict_component)\n",
    "    ## Ordenamos el diccionario de menor a mayor\n",
    "    sorted_x = sorted(dict_all.items(), key=operator.itemgetter(1),reverse=True)\n",
    "    sorted_array = np.array(list(sorted_x))  \n",
    "    while (porcentaje<=umbral):\n",
    "        copia_red = red.copy()\n",
    "        # Removemos los n nodos de centralidad mas alta\n",
    "        n = int(porcentaje*cantidad_nodos/100.0)\n",
    "        for i in range(0,n):\n",
    "            nombre = sorted_array[i][0]\n",
    "            copia_red.remove_node(nombre)\n",
    "        # Calculamos el tamano de la componente gigante (luego de remover nodos)\n",
    "        size_giant_copia = len(max(nx.connected_components(copia_red),key=len))\n",
    "        calculo = size_giant_copia/float(size_giant_original)    \n",
    "        eje_y+=[calculo]\n",
    "        eje_x+=[porcentaje/100.0]        \n",
    "        porcentaje+=paso\n",
    "    return(eje_x,eje_y)"
   ]
  },
  {
   "cell_type": "code",
   "execution_count": 150,
   "metadata": {},
   "outputs": [
    {
     "name": "stdout",
     "output_type": "stream",
     "text": [
      "CPU times: user 0 ns, sys: 0 ns, total: 0 ns\n",
      "Wall time: 5.01 µs\n"
     ]
    }
   ],
   "source": [
    "resultado_current_flow2_LIT = funcion_remove_cf2(G_LIT,35)"
   ]
  },
  {
   "cell_type": "code",
   "execution_count": 142,
   "metadata": {},
   "outputs": [
    {
     "name": "stdout",
     "output_type": "stream",
     "text": [
      "CPU times: user 0 ns, sys: 0 ns, total: 0 ns\n",
      "Wall time: 13.8 µs\n"
     ]
    }
   ],
   "source": []
  },
  {
   "cell_type": "code",
   "execution_count": 144,
   "metadata": {},
   "outputs": [
    {
     "name": "stdout",
     "output_type": "stream",
     "text": [
      "CPU times: user 0 ns, sys: 0 ns, total: 0 ns\n",
      "Wall time: 7.87 µs\n"
     ]
    }
   ],
   "source": [
    "resultado_current_flow2_Y2H = funcion_remove_cf2(G_Y2H,35)"
   ]
  },
  {
   "cell_type": "code",
   "execution_count": 148,
   "metadata": {},
   "outputs": [],
   "source": [
    "#resultado_current_flow2_LIT_Reguly = funcion_remove_cf2(G_LIT_Reguly,35)"
   ]
  },
  {
   "cell_type": "code",
   "execution_count": 146,
   "metadata": {},
   "outputs": [
    {
     "data": {
      "image/png": "[encoded data removed]",
      "text/plain": [
       "<Figure size 504x311.489 with 1 Axes>"
      ]
     },
     "metadata": {},
     "output_type": "display_data"
    }
   ],
   "source": [
    "plt.plot(resultado_current_flow2_LIT[0],resultado_current_flow2_LIT[1],'-b',label='lit')\n",
    "plt.plot(resultado_current_flow2_APMS[0],resultado_current_flow2_APMS[1],'-r',label='apms')\n",
    "plt.plot(resultado_current_flow2_Y2H[0],resultado_current_flow2_Y2H[1],'-g',label='y2h')\n",
    "#plt.plot(resultado_current_flow2_LIT-Reguly[0],resultado_current_flow2_LIT-Reguly[1],'-k',label='lit reguly')\n",
    "pylab.xlabel('fraction of nodes')\n",
    "pylab.ylabel('largest connected component')\n",
    "plt.grid(color='gray', linestyle='--')\n",
    "pylab.ylim(0, 1.0)\n",
    "pylab.xlim(0, 0.35)\n",
    "plt.legend()\n",
    "plt.show()"
   ]
  },
  {
   "cell_type": "code",
   "execution_count": 196,
   "metadata": {},
   "outputs": [],
   "source": [
    "def grado_max(red):\n",
    "    cantidad_nodos = red.number_of_nodes()\n",
    "    maximo = 0\n",
    "    i=0\n",
    "    while i<cantidad_nodos:\n",
    "        if list(red.degree)[i][1]>maximo:\n",
    "            maximo = list(red.degree)[i][1]\n",
    "        i+=1\n",
    "    return maximo"
   ]
  },
  {
   "cell_type": "code",
   "execution_count": 197,
   "metadata": {},
   "outputs": [],
   "source": [
    "def remove_degree_porcentaje(copia_red,porcentaje_nodos,vector_grados):\n",
    "    \n",
    "    numero_nodos = copia_red.number_of_nodes()\n",
    "    nodos_considerados = int(numero_nodos * porcentaje_nodos / 100.0)\n",
    "    l = len(vector_grados)\n",
    "    contador = 0\n",
    "    i = 0\n",
    "\n",
    "    #me fijo a que k corresponde ese porcentaje de nodos\n",
    "    while contador <= nodos_considerados:\n",
    "        contador += vector_grados[l-i-1]\n",
    "        i+=1\n",
    "  \n",
    "    k_max = l - (i - 1)\n",
    "    len_red = len(copia_red)\n",
    "    grado_maximo = k_max\n",
    "    \n",
    "    while grado_maximo >= k_max:\n",
    "        i = 0\n",
    "        while i < len_red:\n",
    "            grado = list(copia_red.degree)[i][1]\n",
    "            nombre = list(copia_red)[i]\n",
    "            if grado >= k_max:\n",
    "                copia_red.remove_nodes_from([nombre])\n",
    "                len_red = len(copia_red)\n",
    "                #i = 0\n",
    "                i = i - 1\n",
    "            else:\n",
    "                i+=1\n",
    "        grado_maximo = grado_max(copia_red)\n",
    "\n",
    "    f = copia_red.number_of_nodes()\n",
    "    componente_gigante = 0\n",
    "    if(f>0): \n",
    "        componente_gigante = max(nx.connected_components(copia_red), key=len)\n",
    "    \n",
    "    grafo_componente_gigante = copia_red.subgraph(componente_gigante)\n",
    "    g = grafo_componente_gigante.number_of_nodes()\n",
    "\n",
    "    return g  "
   ]
  },
  {
   "cell_type": "code",
   "execution_count": 205,
   "metadata": {},
   "outputs": [],
   "source": [
    "def funcion_remove_degree(red,umbral):\n",
    "\n",
    "    componente_gigante_red_original = max(nx.connected_components(red), key=len)\n",
    "    grafo_componente_gigante_red_original = red.subgraph(componente_gigante_red_original)\n",
    "    nodos_componente_gigante_red_original = grafo_componente_gigante_red_original.number_of_nodes()\n",
    "    \n",
    "    paso = 2\n",
    "    m = umbral / paso\n",
    "    eje_x = np.zeros(m+1)\n",
    "    eje_y = np.zeros(m+1)\n",
    "    vector_grados = distribucion_grado(red)[0]\n",
    "    porcentaje_nodos = 0\n",
    "    \n",
    "    i = 0\n",
    "    while porcentaje_nodos <= umbral:\n",
    "        copia_red=red.copy()\n",
    "        eje_x[i] = porcentaje_nodos/100.0\n",
    "        eje_y[i] = remove_degree_porcentaje(copia_red,porcentaje_nodos,vector_grados)/(float(nodos_componente_gigante_red_original))\n",
    "        \n",
    "        porcentaje_nodos += paso\n",
    "        i+=1\n",
    "    \n",
    "    return(eje_x,eje_y)"
   ]
  },
  {
   "cell_type": "code",
   "execution_count": 210,
   "metadata": {},
   "outputs": [],
   "source": [
    "def clasificacion_eigenvector(eigenvector_array):\n",
    "    \n",
    "    l = len(eigenvector_array)\n",
    "    vector_eigenvector = np.zeros(l)\n",
    "    i = 0\n",
    "    while i < l:\n",
    "        vector_eigenvector[i] = eigenvector_array[i][1]\n",
    "        i += 1\n",
    "    \n",
    "    return(vector_eigenvector)\n"
   ]
  },
  {
   "cell_type": "code",
   "execution_count": 211,
   "metadata": {},
   "outputs": [],
   "source": [
    "def remove_eigenvector_porcentaje(copia_red,porcentaje_nodos,eigenvector):\n",
    "    \n",
    "    numero_nodos = copia_red.number_of_nodes()\n",
    "    nodos_considerados = int(numero_nodos * porcentaje_nodos / 100.0)\n",
    "    l = len(eigenvector)\n",
    "    contador = 0\n",
    "    \n",
    "    eigenvector_array = np.array(list(eigenvector.items()))\n",
    "    vector_eigenvector = clasificacion_eigenvector(eigenvector_array)\n",
    "    eigenvector_ordenado = np.sort(vector_eigenvector)\n",
    "    \n",
    "    len_eigenvector = len(eigenvector_ordenado)\n",
    "    indice_max = nodos_considerados\n",
    "\n",
    "    eigenvector_max = eigenvector_ordenado[l-indice_max-1]\n",
    "    len_red = len(copia_red)\n",
    "    eigenvector_maximo = float(eigenvector_max)\n",
    "    \n",
    "    i = 0\n",
    "    while i < len_red:\n",
    "        autovector_i = float(eigenvector_array[i][1])\n",
    "        nombre = eigenvector_array[i][0]\n",
    "\n",
    "        if autovector_i >= eigenvector_maximo:\n",
    "            copia_red.remove_nodes_from([nombre])\n",
    "            len_red = len(copia_red)\n",
    "        i+=1\n",
    "\n",
    "    f = copia_red.number_of_nodes()\n",
    "    componente_gigante = 0\n",
    "    if(f>0): \n",
    "        componente_gigante = max(nx.connected_components(copia_red), key=len)\n",
    "    \n",
    "    grafo_componente_gigante = copia_red.subgraph(componente_gigante)\n",
    "    g = grafo_componente_gigante.number_of_nodes()\n",
    "\n",
    "    return g "
   ]
  },
  {
   "cell_type": "code",
   "execution_count": 216,
   "metadata": {},
   "outputs": [],
   "source": [
    "def funcion_remove_eigenvector(red,umbral):\n",
    "\n",
    "    componente_gigante_red_original = max(nx.connected_components(red), key=len)\n",
    "    grafo_componente_gigante_red_original = red.subgraph(componente_gigante_red_original)\n",
    "    nodos_componente_gigante_red_original = grafo_componente_gigante_red_original.number_of_nodes()\n",
    "    \n",
    "    paso = 1\n",
    "    m = umbral / paso\n",
    "    eje_x = np.zeros(m+1)\n",
    "    eje_y = np.zeros(m+1)\n",
    "    \n",
    "    eigenvector = nx.eigenvector_centrality(red,max_iter=100)\n",
    "    \n",
    "    porcentaje_nodos = 0\n",
    "    \n",
    "    i = 0\n",
    "    while porcentaje_nodos <= umbral:\n",
    "        copia_red=red.copy()\n",
    "        eje_x[i] = porcentaje_nodos/100.0\n",
    "        eje_y[i] = remove_eigenvector_porcentaje(copia_red,porcentaje_nodos,eigenvector)/(float(nodos_componente_gigante_red_original))\n",
    "        \n",
    "        porcentaje_nodos += paso\n",
    "        i+=1\n",
    "    \n",
    "    return(eje_x,eje_y)"
   ]
  },
  {
   "cell_type": "code",
   "execution_count": 220,
   "metadata": {},
   "outputs": [],
   "source": [
    "def rem_esenciales(red):\n",
    "\n",
    "    copia_red=red.copy()\n",
    "    nodos_red_original = copia_red.number_of_nodes()\n",
    "    \n",
    "    comp_gigante_original = max(nx.connected_component_subgraphs(copia_red), key=len)\n",
    "    nodos_comp_gigante_original = comp_gigante_original.number_of_nodes()\n",
    "    \n",
    "    l = len(yeast_G_ESSENTIAL_raw[0][:])\n",
    "    copia_red.remove_nodes_from(yeast_G_ESSENTIAL_raw[0][:])\n",
    "    nodos_red_removida = copia_red.number_of_nodes()\n",
    "\n",
    "    nodos_removidos = nodos_red_original - nodos_red_removida\n",
    "    comp_gigante_removida = max(nx.connected_component_subgraphs(copia_red), key=len)\n",
    "    nodos_comp_gigante_removida = comp_gigante_removida.number_of_nodes()\n",
    "    \n",
    "    eje_x = nodos_removidos / (float(nodos_red_original))\n",
    "    eje_y = nodos_comp_gigante_removida / (float(nodos_comp_gigante_original))\n",
    "\n",
    "    return(eje_x,eje_y)\n"
   ]
  },
  {
   "cell_type": "markdown",
   "metadata": {},
   "source": [
    "### Data para graficar APMS"
   ]
  },
  {
   "cell_type": "code",
   "execution_count": 183,
   "metadata": {},
   "outputs": [],
   "source": [
    "# Shortest path\n",
    "resultado_shortest_path2_APMS = funcion_remove_sp2(G_APMS,35)"
   ]
  },
  {
   "cell_type": "code",
   "execution_count": 156,
   "metadata": {},
   "outputs": [
    {
     "name": "stdout",
     "output_type": "stream",
     "text": [
      "CPU times: user 0 ns, sys: 0 ns, total: 0 ns\n",
      "Wall time: 6.2 µs\n"
     ]
    }
   ],
   "source": [
    "# Current flow\n",
    "resultado_current_flow2_APMS = funcion_remove_cf2(G_APMS,35)"
   ]
  },
  {
   "cell_type": "code",
   "execution_count": 157,
   "metadata": {},
   "outputs": [],
   "source": [
    "# Random\n",
    "resultado_random_APMS =  funcion_remove_random(G_APMS,0.35)"
   ]
  },
  {
   "cell_type": "code",
   "execution_count": 206,
   "metadata": {},
   "outputs": [],
   "source": [
    "# Degree\n",
    "resultado_degree_APMS =  funcion_remove_degree(G_APMS,35)"
   ]
  },
  {
   "cell_type": "code",
   "execution_count": 217,
   "metadata": {},
   "outputs": [],
   "source": [
    "# Eingenvector\n",
    "resultado_eingenvector_APMS =  funcion_remove_eigenvector(G_APMS,35)"
   ]
  },
  {
   "cell_type": "code",
   "execution_count": 221,
   "metadata": {},
   "outputs": [],
   "source": [
    "# Esenciales\n",
    "resultado_esenciles_APMS =  rem_esenciales(G_APMS)"
   ]
  },
  {
   "cell_type": "code",
   "execution_count": 236,
   "metadata": {},
   "outputs": [
    {
     "data": {
      "image/png": "[encoded data removed]",
      "text/plain": [
       "<Figure size 504x311.489 with 1 Axes>"
      ]
     },
     "metadata": {},
     "output_type": "display_data"
    }
   ],
   "source": [
    "### Grafico APMS\n",
    "plt.plot(resultado_esenciles_APMS[0],resultado_esenciles_APMS[1],'h',markersize='7',color = 'brown',label='essent.')\n",
    "plt.plot(resultado_degree_APMS[0],resultado_degree_APMS[1],'-r',label='degree')\n",
    "plt.plot(resultado_eingenvector_APMS[0],resultado_eingenvector_APMS[1],'-',color = 'orange',label='eingenvector')\n",
    "plt.plot(resultado_shortest_path2_APMS[0],resultado_shortest_path2_APMS[1],'-',color = 'violet',label='shortest-path')\n",
    "plt.plot(resultado_current_flow2_APMS[0],resultado_current_flow2_APMS[1],'-c',label='current flow')\n",
    "plt.plot(resultado_random_APMS[0],resultado_random_APMS[1],'-k',label='random')\n",
    "\n",
    "pylab.xlabel('fraction of nodes')\n",
    "pylab.ylabel('largest connected component')\n",
    "#plt.grid(color='gray', linestyle='--')\n",
    "#pylab.ylim(0, 1.0)\n",
    "#pylab.xlim(0, 0.35)\n",
    "plt.legend(loc='upper right',prop={'size': 11})\n",
    "plt.show()\n",
    "\n",
    "\n"
   ]
  },
  {
   "cell_type": "code",
   "execution_count": null,
   "metadata": {},
   "outputs": [],
   "source": []
  }
 ],
 "metadata": {
  "kernelspec": {
   "display_name": "Python 2",
   "language": "python",
   "name": "python2"
  },
  "language_info": {
   "codemirror_mode": {
    "name": "ipython",
    "version": 2
   },
   "file_extension": ".py",
   "mimetype": "text/x-python",
   "name": "python",
   "nbconvert_exporter": "python",
   "pygments_lexer": "ipython2",
   "version": "2.7.15"
  }
 },
 "nbformat": 4,
 "nbformat_minor": 2
}
